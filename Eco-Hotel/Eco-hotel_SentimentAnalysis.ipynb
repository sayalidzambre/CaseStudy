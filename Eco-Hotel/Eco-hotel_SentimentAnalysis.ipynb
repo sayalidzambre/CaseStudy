{
 "cells": [
  {
   "cell_type": "code",
   "execution_count": 1,
   "metadata": {
    "collapsed": false
   },
   "outputs": [
    {
     "name": "stderr",
     "output_type": "stream",
     "text": [
      "/home/sayali/anaconda3/lib/python3.5/site-packages/nltk/twitter/__init__.py:20: UserWarning: The twython library has not been installed. Some functionality from the twitter package will not be available.\n",
      "  warnings.warn(\"The twython library has not been installed. \"\n"
     ]
    }
   ],
   "source": [
    "\n",
    "import bokeh\n",
    "import numpy as np\n",
    "import pandas as pd\n",
    "%matplotlib inline\n",
    "from wordcloud import WordCloud, STOPWORDS\n",
    "import re\n",
    "import seaborn as sns\n",
    "from IPython.display import display\n",
    "pd.options.mode.chained_assignment = None\n",
    "import matplotlib\n",
    "import re\n",
    "from wordcloud import WordCloud, STOPWORDS\n",
    "import matplotlib.pyplot as plt\n",
    "from nltk.sentiment.vader import SentimentIntensityAnalyzer\n",
    "from nltk.sentiment.util import *\n",
    "from nltk import tokenize\n",
    "matplotlib.style.use('ggplot')"
   ]
  },
  {
   "cell_type": "code",
   "execution_count": 2,
   "metadata": {
    "collapsed": true
   },
   "outputs": [],
   "source": [
    "with open('./dataset-CalheirosMoroRita-2017.csv', encoding=\"iso-8859-1\") as f:\n",
    "    content = f.readlines()"
   ]
  },
  {
   "cell_type": "code",
   "execution_count": 3,
   "metadata": {
    "collapsed": false
   },
   "outputs": [
    {
     "data": {
      "text/plain": [
       "[' Everything from the weather, staff, food, property, fire pits, décor, spa, rooms and beach were top notch\\n',\n",
       " '\"The hotel it is fantastic built by the sea, living together with nature. Environment it is great as well as people and service.\\n',\n",
       " 'We full enjoyed the place, and facilities.\\n',\n",
       " 'Thanks for the \"\"cidreira\"\" and \"\"madalenas\"\" tea at reception\"\\n',\n",
       " 'One dream! Cozy  and comfortable Hotel!  The best personalized one! All the employees are congratulated! Very nice taste, since reception to the end of the stay! We were welcome with tea and cake, as I have gluten aversion,, all the employees already knew and were waiting carefully. At night, we were received in the fire pits, with some wine and all the guests were invited to participate and interact. \\n',\n",
       " '\"Hotel concept is hard to grasp. They communicate environmental sustainability, through fashionable buzzwords like upcycling but they use pillows made out of duck feathers!?!\\n',\n",
       " 'Pricing is utterly ridiculous, for what you get.\\n',\n",
       " 'Breakfast has high-quality products, but it lacks in choice.\\n',\n",
       " 'Service is friendly, although \"\"too friendly\"\" at times.\\n']"
      ]
     },
     "execution_count": 3,
     "metadata": {},
     "output_type": "execute_result"
    }
   ],
   "source": [
    "content[1:10]"
   ]
  },
  {
   "cell_type": "code",
   "execution_count": 4,
   "metadata": {
    "collapsed": true
   },
   "outputs": [],
   "source": [
    "data = pd.DataFrame(content[1:], columns=['Review'])"
   ]
  },
  {
   "cell_type": "code",
   "execution_count": 5,
   "metadata": {
    "collapsed": false
   },
   "outputs": [
    {
     "data": {
      "text/html": [
       "<div>\n",
       "<style>\n",
       "    .dataframe thead tr:only-child th {\n",
       "        text-align: right;\n",
       "    }\n",
       "\n",
       "    .dataframe thead th {\n",
       "        text-align: left;\n",
       "    }\n",
       "\n",
       "    .dataframe tbody tr th {\n",
       "        vertical-align: top;\n",
       "    }\n",
       "</style>\n",
       "<table border=\"1\" class=\"dataframe\">\n",
       "  <thead>\n",
       "    <tr style=\"text-align: right;\">\n",
       "      <th></th>\n",
       "      <th>Review</th>\n",
       "    </tr>\n",
       "  </thead>\n",
       "  <tbody>\n",
       "    <tr>\n",
       "      <th>0</th>\n",
       "      <td>Everything from the weather, staff, food, pro...</td>\n",
       "    </tr>\n",
       "    <tr>\n",
       "      <th>1</th>\n",
       "      <td>\"The hotel it is fantastic built by the sea, l...</td>\n",
       "    </tr>\n",
       "    <tr>\n",
       "      <th>2</th>\n",
       "      <td>We full enjoyed the place, and facilities.\\n</td>\n",
       "    </tr>\n",
       "    <tr>\n",
       "      <th>3</th>\n",
       "      <td>Thanks for the \"\"cidreira\"\" and \"\"madalenas\"\" ...</td>\n",
       "    </tr>\n",
       "    <tr>\n",
       "      <th>4</th>\n",
       "      <td>One dream! Cozy  and comfortable Hotel!  The b...</td>\n",
       "    </tr>\n",
       "  </tbody>\n",
       "</table>\n",
       "</div>"
      ],
      "text/plain": [
       "                                              Review\n",
       "0   Everything from the weather, staff, food, pro...\n",
       "1  \"The hotel it is fantastic built by the sea, l...\n",
       "2       We full enjoyed the place, and facilities.\\n\n",
       "3  Thanks for the \"\"cidreira\"\" and \"\"madalenas\"\" ...\n",
       "4  One dream! Cozy  and comfortable Hotel!  The b..."
      ]
     },
     "execution_count": 5,
     "metadata": {},
     "output_type": "execute_result"
    }
   ],
   "source": [
    "data.head()"
   ]
  },
  {
   "cell_type": "code",
   "execution_count": 6,
   "metadata": {
    "collapsed": false
   },
   "outputs": [],
   "source": [
    "import nltk\n",
    "import re\n",
    "import string\n",
    "\n",
    "from nltk.corpus import wordnet as wn\n",
    "from contractions import CONTRACTION_MAP\n",
    "from nltk.stem import WordNetLemmatizer\n",
    "from html.parser import HTMLParser\n",
    "import unicodedata\n",
    "\n",
    "wnl = WordNetLemmatizer()\n",
    "html_parser = HTMLParser()\n",
    "\n",
    "stopword_list = nltk.corpus.stopwords.words('english')\n",
    "stopword_list = stopword_list + ['mr', 'mrs', 'come', 'go', 'get',\n",
    "                                 'tell', 'listen', 'one', 'two', 'three',\n",
    "                                 'four', 'five', 'six', 'seven', 'eight',\n",
    "                                 'nine', 'zero', 'join', 'find', 'make',\n",
    "                                 'say', 'ask', 'tell', 'see', 'try', 'back',\n",
    "                                 'also', '', None, ' ']"
   ]
  },
  {
   "cell_type": "code",
   "execution_count": 7,
   "metadata": {
    "collapsed": true
   },
   "outputs": [],
   "source": [
    "def expand_contractions(text, contraction_mapping):\n",
    "    \n",
    "    contractions_pattern = re.compile('({})'.format('|'.join(contraction_mapping.keys())), \n",
    "                                      flags=re.IGNORECASE|re.DOTALL)\n",
    "    def expand_match(contraction):\n",
    "        match = contraction.group(0)\n",
    "        first_char = match[0]\n",
    "        expanded_contraction = contraction_mapping.get(match)\\\n",
    "                                if contraction_mapping.get(match)\\\n",
    "                                else contraction_mapping.get(match.lower())                       \n",
    "        expanded_contraction = first_char+expanded_contraction[1:]\n",
    "        return expanded_contraction\n",
    "        \n",
    "    expanded_text = contractions_pattern.sub(expand_match, text)\n",
    "    expanded_text = re.sub(\"'\", \"\", expanded_text)\n",
    "    return expanded_text"
   ]
  },
  {
   "cell_type": "code",
   "execution_count": 8,
   "metadata": {
    "collapsed": true
   },
   "outputs": [],
   "source": [
    "   \n",
    "\n",
    "def word_tokenize(text):\n",
    "    tokens = nltk.word_tokenize(text) \n",
    "    tokens = [token.strip() for token in tokens]\n",
    "    return tokens"
   ]
  },
  {
   "cell_type": "code",
   "execution_count": 9,
   "metadata": {
    "collapsed": true
   },
   "outputs": [],
   "source": [
    "def remove_special_characters(text):\n",
    "    tokens = text\n",
    "    pattern = re.compile('[{}]'.format(re.escape(string.punctuation)))\n",
    "    filtered_tokens = filter(None, [pattern.sub(' ', token) for token in tokens])\n",
    "    return filtered_tokens\n",
    " "
   ]
  },
  {
   "cell_type": "code",
   "execution_count": 10,
   "metadata": {
    "collapsed": true
   },
   "outputs": [],
   "source": [
    "   \n",
    "    \n",
    "def remove_stopwords(text):\n",
    "    tokens = text\n",
    "    filtered_tokens = [token for token in tokens if token.strip() not in stopword_list]\n",
    "    return filtered_tokens"
   ]
  },
  {
   "cell_type": "code",
   "execution_count": 11,
   "metadata": {
    "collapsed": true
   },
   "outputs": [],
   "source": [
    "def pos_tag_text(words):\n",
    "    \n",
    "    def penn_to_wn_tags(pos_tag):\n",
    "        if pos_tag.startswith('J'):\n",
    "            return wn.ADJ\n",
    "        elif pos_tag.startswith('V'):\n",
    "            return wn.VERB\n",
    "        elif pos_tag.startswith('N'):\n",
    "            return wn.NOUN\n",
    "        elif pos_tag.startswith('R'):\n",
    "            return wn.ADV\n",
    "        else:\n",
    "            return None\n",
    "        \n",
    "        \n",
    "    def pos_tagging(words):\n",
    "        return nltk.pos_tag(words)\n",
    "    \n",
    "    tagged_words = pos_tagging(words)\n",
    "    tagged_lower_text = [(word.lower(), penn_to_wn_tags(pos_tag))\n",
    "                         for word, pos_tag in\n",
    "                         tagged_words]\n",
    "    return tagged_lower_text\n",
    "    "
   ]
  },
  {
   "cell_type": "code",
   "execution_count": 12,
   "metadata": {
    "collapsed": true
   },
   "outputs": [],
   "source": [
    "def lemmatize_text(words):\n",
    "    pos_tagged_words = pos_tag_text(words)\n",
    "    lemmatized_tokens = [wnl.lemmatize(word, pos_tag) if pos_tag\n",
    "                         else word                     \n",
    "                         for word, pos_tag in pos_tagged_words]\n",
    "    return lemmatized_tokens\n",
    "\n",
    "\n",
    "def normalize_corpus(line, lemmatize=True):\n",
    "    \n",
    "    line = html_parser.unescape(line)\n",
    "    line = expand_contractions(line, CONTRACTION_MAP)\n",
    "    \n",
    "    words = word_tokenize(line)\n",
    "    \n",
    "    words = remove_special_characters(words)\n",
    "    \n",
    "    words = remove_stopwords(words)\n",
    "    \n",
    "    if lemmatize:\n",
    "        words = lemmatize_text(words)\n",
    "    return ' '.join(words)"
   ]
  },
  {
   "cell_type": "code",
   "execution_count": 13,
   "metadata": {
    "collapsed": false
   },
   "outputs": [
    {
     "name": "stderr",
     "output_type": "stream",
     "text": [
      "/home/sayali/anaconda3/lib/python3.5/site-packages/ipykernel/__main__.py:11: DeprecationWarning: The unescape method is deprecated and will be removed in 3.5, use html.unescape() instead.\n"
     ]
    }
   ],
   "source": [
    "data['Clean_Review'] = data.Review.apply(normalize_corpus)"
   ]
  },
  {
   "cell_type": "markdown",
   "metadata": {},
   "source": [
    "# Sentimental Analysis"
   ]
  },
  {
   "cell_type": "code",
   "execution_count": 14,
   "metadata": {
    "collapsed": false
   },
   "outputs": [],
   "source": [
    "from nltk.sentiment.vader import SentimentIntensityAnalyzer\n",
    "from nltk.sentiment.util import *\n",
    "\n",
    "from nltk import tokenize\n",
    "\n",
    "sid = SentimentIntensityAnalyzer()"
   ]
  },
  {
   "cell_type": "code",
   "execution_count": 15,
   "metadata": {
    "collapsed": false
   },
   "outputs": [],
   "source": [
    "data['sentiment_compound_polarity'] = data.Clean_Review.apply(lambda x:sid.polarity_scores(x)['compound'])\n",
    "data['sentiment_neutral']=data.Clean_Review.apply(lambda x:sid.polarity_scores(x)['neu'])\n",
    "data['sentiment_negative']=data.Clean_Review.apply(lambda x:sid.polarity_scores(x)['neg'])\n",
    "data['sentiment_pos']=data.Clean_Review.apply(lambda x:sid.polarity_scores(x)['pos'])\n",
    "data['sentiment_type']=''"
   ]
  },
  {
   "cell_type": "code",
   "execution_count": 16,
   "metadata": {
    "collapsed": false
   },
   "outputs": [],
   "source": [
    "data.loc[data.sentiment_compound_polarity>0,'sentiment_type']='POSITIVE'\n",
    "data.loc[data.sentiment_compound_polarity==0,'sentiment_type']='NEUTRAL'\n",
    "data.loc[data.sentiment_compound_polarity<0,'sentiment_type']='NEGATIVE'\n"
   ]
  },
  {
   "cell_type": "code",
   "execution_count": 17,
   "metadata": {
    "collapsed": false
   },
   "outputs": [
    {
     "data": {
      "text/html": [
       "<div>\n",
       "<style>\n",
       "    .dataframe thead tr:only-child th {\n",
       "        text-align: right;\n",
       "    }\n",
       "\n",
       "    .dataframe thead th {\n",
       "        text-align: left;\n",
       "    }\n",
       "\n",
       "    .dataframe tbody tr th {\n",
       "        vertical-align: top;\n",
       "    }\n",
       "</style>\n",
       "<table border=\"1\" class=\"dataframe\">\n",
       "  <thead>\n",
       "    <tr style=\"text-align: right;\">\n",
       "      <th></th>\n",
       "      <th>Review</th>\n",
       "      <th>Clean_Review</th>\n",
       "      <th>sentiment_compound_polarity</th>\n",
       "      <th>sentiment_neutral</th>\n",
       "      <th>sentiment_negative</th>\n",
       "      <th>sentiment_pos</th>\n",
       "      <th>sentiment_type</th>\n",
       "    </tr>\n",
       "  </thead>\n",
       "  <tbody>\n",
       "    <tr>\n",
       "      <th>0</th>\n",
       "      <td>Everything from the weather, staff, food, pro...</td>\n",
       "      <td>everything weather staff food property fire pi...</td>\n",
       "      <td>-0.1531</td>\n",
       "      <td>0.724</td>\n",
       "      <td>0.158</td>\n",
       "      <td>0.118</td>\n",
       "      <td>NEGATIVE</td>\n",
       "    </tr>\n",
       "    <tr>\n",
       "      <th>1</th>\n",
       "      <td>\"The hotel it is fantastic built by the sea, l...</td>\n",
       "      <td>the hotel fantastic build sea live together na...</td>\n",
       "      <td>0.8689</td>\n",
       "      <td>0.505</td>\n",
       "      <td>0.000</td>\n",
       "      <td>0.495</td>\n",
       "      <td>POSITIVE</td>\n",
       "    </tr>\n",
       "    <tr>\n",
       "      <th>2</th>\n",
       "      <td>We full enjoyed the place, and facilities.\\n</td>\n",
       "      <td>we full enjoy place facility</td>\n",
       "      <td>0.4939</td>\n",
       "      <td>0.556</td>\n",
       "      <td>0.000</td>\n",
       "      <td>0.444</td>\n",
       "      <td>POSITIVE</td>\n",
       "    </tr>\n",
       "    <tr>\n",
       "      <th>3</th>\n",
       "      <td>Thanks for the \"\"cidreira\"\" and \"\"madalenas\"\" ...</td>\n",
       "      <td>thanks cidreira madalenas tea reception</td>\n",
       "      <td>0.4404</td>\n",
       "      <td>0.580</td>\n",
       "      <td>0.000</td>\n",
       "      <td>0.420</td>\n",
       "      <td>POSITIVE</td>\n",
       "    </tr>\n",
       "    <tr>\n",
       "      <th>4</th>\n",
       "      <td>One dream! Cozy  and comfortable Hotel!  The b...</td>\n",
       "      <td>one dream cozy comfortable hotel the best pers...</td>\n",
       "      <td>0.9392</td>\n",
       "      <td>0.516</td>\n",
       "      <td>0.094</td>\n",
       "      <td>0.390</td>\n",
       "      <td>POSITIVE</td>\n",
       "    </tr>\n",
       "    <tr>\n",
       "      <th>5</th>\n",
       "      <td>\"Hotel concept is hard to grasp. They communic...</td>\n",
       "      <td>hotel concept hard grasp they communicate envi...</td>\n",
       "      <td>0.2732</td>\n",
       "      <td>0.794</td>\n",
       "      <td>0.074</td>\n",
       "      <td>0.132</td>\n",
       "      <td>POSITIVE</td>\n",
       "    </tr>\n",
       "    <tr>\n",
       "      <th>6</th>\n",
       "      <td>Pricing is utterly ridiculous, for what you ge...</td>\n",
       "      <td>price utterly ridiculous</td>\n",
       "      <td>-0.4201</td>\n",
       "      <td>0.417</td>\n",
       "      <td>0.583</td>\n",
       "      <td>0.000</td>\n",
       "      <td>NEGATIVE</td>\n",
       "    </tr>\n",
       "    <tr>\n",
       "      <th>7</th>\n",
       "      <td>Breakfast has high-quality products, but it la...</td>\n",
       "      <td>breakfast high quality product lack choice</td>\n",
       "      <td>-0.3182</td>\n",
       "      <td>0.685</td>\n",
       "      <td>0.315</td>\n",
       "      <td>0.000</td>\n",
       "      <td>NEGATIVE</td>\n",
       "    </tr>\n",
       "    <tr>\n",
       "      <th>8</th>\n",
       "      <td>Service is friendly, although \"\"too friendly\"\"...</td>\n",
       "      <td>service friendly although friendly time</td>\n",
       "      <td>0.7506</td>\n",
       "      <td>0.319</td>\n",
       "      <td>0.000</td>\n",
       "      <td>0.681</td>\n",
       "      <td>POSITIVE</td>\n",
       "    </tr>\n",
       "    <tr>\n",
       "      <th>9</th>\n",
       "      <td>Overall experience was ok, but you can get muc...</td>\n",
       "      <td>overall experience ok much well alternative lo...</td>\n",
       "      <td>0.2960</td>\n",
       "      <td>0.439</td>\n",
       "      <td>0.184</td>\n",
       "      <td>0.377</td>\n",
       "      <td>POSITIVE</td>\n",
       "    </tr>\n",
       "  </tbody>\n",
       "</table>\n",
       "</div>"
      ],
      "text/plain": [
       "                                              Review  \\\n",
       "0   Everything from the weather, staff, food, pro...   \n",
       "1  \"The hotel it is fantastic built by the sea, l...   \n",
       "2       We full enjoyed the place, and facilities.\\n   \n",
       "3  Thanks for the \"\"cidreira\"\" and \"\"madalenas\"\" ...   \n",
       "4  One dream! Cozy  and comfortable Hotel!  The b...   \n",
       "5  \"Hotel concept is hard to grasp. They communic...   \n",
       "6  Pricing is utterly ridiculous, for what you ge...   \n",
       "7  Breakfast has high-quality products, but it la...   \n",
       "8  Service is friendly, although \"\"too friendly\"\"...   \n",
       "9  Overall experience was ok, but you can get muc...   \n",
       "\n",
       "                                        Clean_Review  \\\n",
       "0  everything weather staff food property fire pi...   \n",
       "1  the hotel fantastic build sea live together na...   \n",
       "2                       we full enjoy place facility   \n",
       "3            thanks cidreira madalenas tea reception   \n",
       "4  one dream cozy comfortable hotel the best pers...   \n",
       "5  hotel concept hard grasp they communicate envi...   \n",
       "6                           price utterly ridiculous   \n",
       "7         breakfast high quality product lack choice   \n",
       "8            service friendly although friendly time   \n",
       "9  overall experience ok much well alternative lo...   \n",
       "\n",
       "   sentiment_compound_polarity  sentiment_neutral  sentiment_negative  \\\n",
       "0                      -0.1531              0.724               0.158   \n",
       "1                       0.8689              0.505               0.000   \n",
       "2                       0.4939              0.556               0.000   \n",
       "3                       0.4404              0.580               0.000   \n",
       "4                       0.9392              0.516               0.094   \n",
       "5                       0.2732              0.794               0.074   \n",
       "6                      -0.4201              0.417               0.583   \n",
       "7                      -0.3182              0.685               0.315   \n",
       "8                       0.7506              0.319               0.000   \n",
       "9                       0.2960              0.439               0.184   \n",
       "\n",
       "   sentiment_pos sentiment_type  \n",
       "0          0.118       NEGATIVE  \n",
       "1          0.495       POSITIVE  \n",
       "2          0.444       POSITIVE  \n",
       "3          0.420       POSITIVE  \n",
       "4          0.390       POSITIVE  \n",
       "5          0.132       POSITIVE  \n",
       "6          0.000       NEGATIVE  \n",
       "7          0.000       NEGATIVE  \n",
       "8          0.681       POSITIVE  \n",
       "9          0.377       POSITIVE  "
      ]
     },
     "execution_count": 17,
     "metadata": {},
     "output_type": "execute_result"
    }
   ],
   "source": [
    "data.head(10)"
   ]
  },
  {
   "cell_type": "code",
   "execution_count": 18,
   "metadata": {
    "collapsed": false
   },
   "outputs": [
    {
     "data": {
      "text/plain": [
       "<matplotlib.text.Text at 0x7fcbcdc4f0b8>"
      ]
     },
     "execution_count": 18,
     "metadata": {},
     "output_type": "execute_result"
    },
    {
     "data": {
      "image/png": "[encoded data removed]",
      "text/plain": [
       "<matplotlib.figure.Figure at 0x7fcbcdb7ac18>"
      ]
     },
     "metadata": {},
     "output_type": "display_data"
    }
   ],
   "source": [
    "##matplotlib.style.use('ggplot')\n",
    "\n",
    "review_sentiment = data.groupby(['sentiment_type'])['sentiment_neutral'].count()\n",
    "review_sentiment.rename(\"\",inplace=True)\n",
    "explode = (0, 0, 1.0)\n",
    "#plt.subplot(221)\n",
    "review_sentiment.transpose().plot(kind='barh',figsize=(10, 6))\n",
    "plt.title('Sentiment Analysis 1', bbox={'facecolor':'0.8', 'pad':0})\n"
   ]
  },
  {
   "cell_type": "code",
   "execution_count": 19,
   "metadata": {
    "collapsed": false
   },
   "outputs": [
    {
     "data": {
      "image/png": "[encoded data removed]",
      "text/plain": [
       "<matplotlib.figure.Figure at 0x7fcbcdc36f98>"
      ]
     },
     "metadata": {},
     "output_type": "display_data"
    }
   ],
   "source": [
    "#plt.subplot(222)\n",
    "review_sentiment.plot(kind='pie',figsize=(10, 6),autopct='%1.1f%%',shadow=True,explode=explode)\n",
    "plt.legend(bbox_to_anchor=(1, 1), loc=3, borderaxespad=0.)\n",
    "plt.title('Sentiment Analysis 2', bbox={'facecolor':'0.8', 'pad':0})\n",
    "plt.show()"
   ]
  },
  {
   "cell_type": "markdown",
   "metadata": {},
   "source": [
    "# KeyWord Extraction"
   ]
  },
  {
   "cell_type": "code",
   "execution_count": 20,
   "metadata": {
    "collapsed": false
   },
   "outputs": [
    {
     "data": {
      "image/png": "[encoded data removed]",
      "text/plain": [
       "<matplotlib.figure.Figure at 0x7fcbcb41ef98>"
      ]
     },
     "metadata": {},
     "output_type": "display_data"
    }
   ],
   "source": [
    "def wordcloud_by_province(data):\n",
    "    stopwords = set(STOPWORDS)\n",
    "    wordcloud = WordCloud(background_color=\"white\",\n",
    "                          stopwords=stopwords,random_state = 2016).generate(\" \".join([i for i in data['Clean_Review'].str.upper()]))\n",
    "    plt.imshow(wordcloud)\n",
    "    plt.axis(\"off\")\n",
    "    plt.title(\"Reviews\")\n",
    "\n",
    "wordcloud_by_province(data)  "
   ]
  },
  {
   "cell_type": "markdown",
   "metadata": {},
   "source": [
    "##### We are using nltk.ne_chunk which returns a nested nltk.tree.Tree object so you would have to traverse the Tree object to get to the NEs.\n",
    "We can use StanforNER or spacy for better results"
   ]
  },
  {
   "cell_type": "code",
   "execution_count": 21,
   "metadata": {
    "collapsed": false
   },
   "outputs": [],
   "source": [
    "def _NER(doc):\n",
    "    tokenized_doc = nltk.word_tokenize(doc)\n",
    "\n",
    "    # tag sentences and use nltk's Named Entity Chunker\n",
    "    tagged_sentences = nltk.pos_tag(tokenized_doc)\n",
    "    ne_chunked_sents = nltk.ne_chunk(tagged_sentences)\n",
    "\n",
    "    # extract all named entities\n",
    "    named_entities = []\n",
    "    for tagged_tree in ne_chunked_sents:\n",
    "        if hasattr(tagged_tree, 'label'):\n",
    "            entity_name = ' '.join(c[0] for c in tagged_tree.leaves()) #\n",
    "            entity_type = tagged_tree.label() # get NE category\n",
    "            named_entities.append((entity_name, entity_type))\n",
    "    return named_entities\n",
    "\n",
    "data['NER_Class'] = data.Review.apply(_NER)\n",
    " "
   ]
  },
  {
   "cell_type": "code",
   "execution_count": 22,
   "metadata": {
    "collapsed": false
   },
   "outputs": [
    {
     "data": {
      "text/plain": [
       "0                                                     []\n",
       "1                                                     []\n",
       "2                                                     []\n",
       "3                                                     []\n",
       "4                                       [(Cozy, PERSON)]\n",
       "5                                                     []\n",
       "6                                       [(Pricing, GPE)]\n",
       "7                                     [(Breakfast, GPE)]\n",
       "8                                       [(Service, GPE)]\n",
       "9                                       [(Overall, GPE)]\n",
       "10                                                    []\n",
       "11                                         [(Gold, GPE)]\n",
       "12                             [(Room Mi Ma Bo, PERSON)]\n",
       "13                   [(Land, GPE), (Room, ORGANIZATION)]\n",
       "14                                                    []\n",
       "15                                                    []\n",
       "16                                                    []\n",
       "17                      [(Areias, GPE), (Seixo, PERSON)]\n",
       "18                                                    []\n",
       "19                                                    []\n",
       "20                                                    []\n",
       "21     [(Claudia, PERSON), (Filipe, PERSON), (Kiki, P...\n",
       "22     [(Areas, ORGANIZATION), (Seixo, PERSON), (GPS,...\n",
       "23     [(Hotel, GPE), (Neha Crotchet, ORGANIZATION), ...\n",
       "24                                                    []\n",
       "25                     [(Chef Leonardo Pereira, PERSON)]\n",
       "26                                                    []\n",
       "27                                                    []\n",
       "28                                                    []\n",
       "29                                     [(Portugal, GPE)]\n",
       "                             ...                        \n",
       "621                                                   []\n",
       "622                                                   []\n",
       "623                                                   []\n",
       "624                                                   []\n",
       "625                                 [(Philippe, PERSON)]\n",
       "626                                    [(Hotel, PERSON)]\n",
       "627                                   [(Beautiful, GPE)]\n",
       "628                                   [(Philip, PERSON)]\n",
       "629                                   [(Delicious, GPE)]\n",
       "630                                   [(Beautiful, GPE)]\n",
       "631             [(Dear Maria, PERSON), (Philip, PERSON)]\n",
       "632               [(Maria, PERSON), (Beautiful, PERSON)]\n",
       "633                                                   []\n",
       "634                     [(Atlantic Ocean, ORGANIZATION)]\n",
       "635                                      [(Dreamy, GPE)]\n",
       "636                                                   []\n",
       "637    [(Philip, PERSON), (Joanna, PERSON), (Carina, ...\n",
       "638                                                   []\n",
       "639                                   [(Beautiful, GPE)]\n",
       "640                                                   []\n",
       "641                                                   []\n",
       "642                                                   []\n",
       "643                                                   []\n",
       "644            [(Areias, ORGANIZATION), (Seixo, PERSON)]\n",
       "645    [(Areias, ORGANIZATION), (Seixo, PERSON), (Joa...\n",
       "646                                   [(Joanna, PERSON)]\n",
       "647                                [(SPA, ORGANIZATION)]\n",
       "648                                                   []\n",
       "649                                                   []\n",
       "650                                                   []\n",
       "Name: NER_Class, Length: 651, dtype: object"
      ]
     },
     "execution_count": 22,
     "metadata": {},
     "output_type": "execute_result"
    }
   ],
   "source": [
    "data['NER_Class']"
   ]
  },
  {
   "cell_type": "markdown",
   "metadata": {},
   "source": [
    "##### We can predict to which class named entity belongs to."
   ]
  },
  {
   "cell_type": "markdown",
   "metadata": {},
   "source": [
    "# topic modeling"
   ]
  },
  {
   "cell_type": "code",
   "execution_count": 23,
   "metadata": {
    "collapsed": true
   },
   "outputs": [],
   "source": [
    "from sklearn.feature_extraction.text import TfidfVectorizer, CountVectorizer\n",
    "\n",
    "no_features = 300"
   ]
  },
  {
   "cell_type": "markdown",
   "metadata": {},
   "source": [
    "We are currently using small number of feature here but greater number features will generate better result."
   ]
  },
  {
   "cell_type": "code",
   "execution_count": 24,
   "metadata": {
    "collapsed": true
   },
   "outputs": [],
   "source": [
    "# NMF is able to use tf-idf\n",
    "tfidf_vectorizer = TfidfVectorizer(max_df=0.95, min_df=2, max_features=no_features, stop_words='english')\n",
    "tfidf = tfidf_vectorizer.fit_transform(data.Clean_Review)\n",
    "tfidf_feature_names = tfidf_vectorizer.get_feature_names()"
   ]
  },
  {
   "cell_type": "code",
   "execution_count": 25,
   "metadata": {
    "collapsed": false
   },
   "outputs": [],
   "source": [
    "# LDA can only use raw term counts for LDA because it is a probabilistic graphical model\n",
    "tf_vectorizer = CountVectorizer(max_df=0.95, min_df=2, max_features=no_features, stop_words='english')\n",
    "tf = tf_vectorizer.fit_transform(data.Clean_Review)\n",
    "tf_feature_names = tf_vectorizer.get_feature_names()"
   ]
  },
  {
   "cell_type": "code",
   "execution_count": 26,
   "metadata": {
    "collapsed": false
   },
   "outputs": [
    {
     "name": "stderr",
     "output_type": "stream",
     "text": [
      "/home/sayali/anaconda3/lib/python3.5/site-packages/sklearn/decomposition/online_lda.py:294: DeprecationWarning: n_topics has been renamed to n_components in version 0.19 and will be removed in 0.21\n",
      "  DeprecationWarning)\n"
     ]
    }
   ],
   "source": [
    "from sklearn.decomposition import NMF, LatentDirichletAllocation\n",
    "\n",
    "no_topics = 20\n",
    "\n",
    "# Run NMF\n",
    "nmf = NMF(n_components=no_topics, random_state=1, alpha=.1, l1_ratio=.5, init='nndsvd').fit(tfidf)\n",
    "\n",
    "# Run LDA\n",
    "lda = LatentDirichletAllocation(n_topics=no_topics, max_iter=5, learning_method='online', learning_offset=50.,random_state=0).fit(tf)"
   ]
  },
  {
   "cell_type": "code",
   "execution_count": 27,
   "metadata": {
    "collapsed": true
   },
   "outputs": [],
   "source": [
    "def display_topics(model, feature_names, no_top_words):\n",
    "    for topic_idx, topic in enumerate(model.components_):\n",
    "        print(\"Topic %d:\" % (topic_idx))\n",
    "        print(\" \".join([feature_names[i]\n",
    "                        for i in topic.argsort()[:-no_top_words - 1:-1]]))"
   ]
  },
  {
   "cell_type": "code",
   "execution_count": 28,
   "metadata": {
    "collapsed": true
   },
   "outputs": [],
   "source": [
    "no_top_words = 10"
   ]
  },
  {
   "cell_type": "markdown",
   "metadata": {},
   "source": [
    "## Topics from NMF are -"
   ]
  },
  {
   "cell_type": "code",
   "execution_count": 29,
   "metadata": {
    "collapsed": false
   },
   "outputs": [
    {
     "name": "stdout",
     "output_type": "stream",
     "text": [
      "Topic 0:\n",
      "hotel world restaurant good short night paradise amaze comfortable garden\n",
      "Topic 1:\n",
      "thank amaze way joana make moment lovely want team anniversary\n",
      "Topic 2:\n",
      "place amazing magical feel sure service people décor relax nature\n",
      "Topic 3:\n",
      "wonderful people dream week wine expectation thank return night country\n",
      "Topic 4:\n",
      "love dream fantastic true kindness design recommend forever garden new\n",
      "Topic 5:\n",
      "thanks look team amaze moment wait lot everybody happy reception\n",
      "Topic 6:\n",
      "area seixo dear make moment like areias sure excellent architecture\n",
      "Topic 7:\n",
      "beautiful beach pleasant light welcome cozy food new walk delicious\n",
      "Topic 8:\n",
      "staff friendly food kind extremely kitchen amazing excellent helpful visit\n",
      "Topic 9:\n",
      "nice really people breakfast excellent delicious service weekend repeat restaurant\n",
      "Topic 10:\n",
      "experience repeat amaze unique excellent congratulation paradise doubt kindness magical\n",
      "Topic 11:\n",
      "time wait say service feel really come care night spend\n",
      "Topic 12:\n",
      "great breakfast dinner work dish restaurant make feel worth comfortable\n",
      "Topic 13:\n",
      "stay enjoy memory really want future short fantastic dinner memorable\n",
      "Topic 14:\n",
      "day spend magical perfect villa hope live wait magic rest\n",
      "Topic 15:\n",
      "best portugal fantastic want meal new visit travel treatment anniversary\n",
      "Topic 16:\n",
      "price menu vegetarian expensive course ask taste face order choice\n",
      "Topic 17:\n",
      "soon hope team congratulation really possible good leave visit kitchen\n",
      "Topic 18:\n",
      "room food fantastic view like amaze garden lovely night beach\n",
      "Topic 19:\n",
      "special recommend place delicious unique moment truly way perfect mention\n"
     ]
    }
   ],
   "source": [
    "display_topics(nmf, tfidf_feature_names, no_top_words)"
   ]
  },
  {
   "cell_type": "markdown",
   "metadata": {},
   "source": [
    "## Topics from LDA are "
   ]
  },
  {
   "cell_type": "code",
   "execution_count": 30,
   "metadata": {
    "collapsed": false
   },
   "outputs": [
    {
     "name": "stdout",
     "output_type": "stream",
     "text": [
      "Topic 0:\n",
      "dear amazing concrete décor truly love moment room wish friend\n",
      "Topic 1:\n",
      "wine guest employee receive year hotel come glass situation tub\n",
      "Topic 2:\n",
      "child experience stay home rest dream wonderful nature place nice\n",
      "Topic 3:\n",
      "kitchen high quality long taste flavor welcome leave help good\n",
      "Topic 4:\n",
      "different use fantastic pleasant booking site service present consider mention\n",
      "Topic 5:\n",
      "regard kind soon despite quality return spa enjoy day décor\n",
      "Topic 6:\n",
      "need order complaint think perfect miss want improve information bread\n",
      "Topic 7:\n",
      "wonderful experience seixo place make thank day stay room hotel\n",
      "Topic 8:\n",
      "thanks hope pass child year travel 10 enjoy world fabulous\n",
      "Topic 9:\n",
      "dinner stay great excellent dish wonderful long memory extraordinary star\n",
      "Topic 10:\n",
      "place great restaurant special feel beautiful amazing perfect time room\n",
      "Topic 11:\n",
      "happy family stay time natural memory helpful wonderful restaurant long\n",
      "Topic 12:\n",
      "good word kindness music far moment congratulation star wonderful big\n",
      "Topic 13:\n",
      "price villa menu vegetarian expensive face turn dinner second new\n",
      "Topic 14:\n",
      "hope away felt taste visit day love recommend great surprise\n",
      "Topic 15:\n",
      "nice consider reservation bit order arrive price high repeat make\n",
      "Topic 16:\n",
      "hotel thank stay room staff place best love nice really\n",
      "Topic 17:\n",
      "noise best room excellent make sleep level original arrive meal\n",
      "Topic 18:\n",
      "home return know portugal entire week project food fantastic congratulation\n",
      "Topic 19:\n",
      "thank menu design look forward friendly love little place hotel\n"
     ]
    }
   ],
   "source": [
    "display_topics(lda, tf_feature_names, no_top_words)"
   ]
  },
  {
   "cell_type": "markdown",
   "metadata": {},
   "source": [
    "# To Be Continued ....."
   ]
  },
  {
   "cell_type": "markdown",
   "metadata": {},
   "source": [
    "#### As a data science problem, we can always fine tune model with different values.\n",
    "#### Here we can use more number of features or by reducing or increaing topics of data"
   ]
  },
  {
   "cell_type": "code",
   "execution_count": null,
   "metadata": {
    "collapsed": true
   },
   "outputs": [],
   "source": []
  }
 ],
 "metadata": {
  "anaconda-cloud": {},
  "kernelspec": {
   "display_name": "Python [conda env:anaconda3]",
   "language": "python",
   "name": "conda-env-anaconda3-py"
  },
  "language_info": {
   "codemirror_mode": {
    "name": "ipython",
    "version": 3
   },
   "file_extension": ".py",
   "mimetype": "text/x-python",
   "name": "python",
   "nbconvert_exporter": "python",
   "pygments_lexer": "ipython3",
   "version": "3.5.2"
  }
 },
 "nbformat": 4,
 "nbformat_minor": 2
}
