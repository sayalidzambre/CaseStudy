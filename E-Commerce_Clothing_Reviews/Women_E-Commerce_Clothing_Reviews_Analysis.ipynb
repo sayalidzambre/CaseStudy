{
 "cells": [
  {
   "cell_type": "markdown",
   "metadata": {},
   "source": [
    "# Women's E-Commerce Clothing Reviews"
   ]
  },
  {
   "cell_type": "code",
   "execution_count": 104,
   "metadata": {
    "collapsed": false
   },
   "outputs": [
    {
     "data": {
      "text/html": [
       "<script>\n",
       "code_show=true; \n",
       "function code_toggle() {\n",
       " if (code_show){\n",
       " $('div.input').hide();\n",
       " } else {\n",
       " $('div.input').show();\n",
       " }\n",
       " code_show = !code_show\n",
       "} \n",
       "$( document ).ready(code_toggle);\n",
       "</script>\n",
       "<form action=\"javascript:code_toggle()\"><input type=\"submit\" value=\"Click here to toggle on/off the raw code.\"></form>"
      ],
      "text/plain": [
       "<IPython.core.display.HTML object>"
      ]
     },
     "execution_count": 104,
     "metadata": {},
     "output_type": "execute_result"
    }
   ],
   "source": [
    "from IPython.display import HTML\n",
    "\n",
    "HTML('''<script>\n",
    "code_show=true; \n",
    "function code_toggle() {\n",
    " if (code_show){\n",
    " $('div.input').hide();\n",
    " } else {\n",
    " $('div.input').show();\n",
    " }\n",
    " code_show = !code_show\n",
    "} \n",
    "$( document ).ready(code_toggle);\n",
    "</script>\n",
    "<form action=\"javascript:code_toggle()\"><input type=\"submit\" value=\"Click here to toggle on/off the raw code.\"></form>''')"
   ]
  },
  {
   "cell_type": "markdown",
   "metadata": {},
   "source": [
    "## Context\n",
    "\n",
    "Welcome. This is a Women’s Clothing E-Commerce dataset revolving around the reviews written by customers. Its nine supportive features offer a great environment to parse out the text through its multiple dimensions. Because this is real commercial data, it has been anonymized, and references to the company in the review text and body have been replaced with “retailer”.\n",
    "\n",
    "## Content\n",
    "\n",
    "This dataset includes 23486 rows and 10 feature variables. Each row corresponds to a customer review, and includes the variables:\n",
    "\n",
    "Clothing ID: Integer Categorical variable that refers to the specific piece being reviewed.\n",
    "\n",
    "Age: Positive Integer variable of the reviewers age.\n",
    "\n",
    "Title: String variable for the title of the review.\n",
    "\n",
    "Review Text: String variable for the review body.\n",
    "\n",
    "Rating: Positive Ordinal Integer variable for the product score granted by the customer from 1 Worst, to 5 Best.\n",
    "\n",
    "Recommended IND: Binary variable stating where the customer recommends the product where 1 is recommended, 0 is not recommended.\n",
    "\n",
    "Positive Feedback Count: Positive Integer documenting the number of other customers who found this review positive.\n",
    "\n",
    "Division Name: Categorical name of the product high level division.\n",
    "\n",
    "Department Name: Categorical name of the product department name.\n",
    "\n",
    "Class Name: Categorical name of the product class name.\n"
   ]
  },
  {
   "cell_type": "markdown",
   "metadata": {},
   "source": [
    "## We look forward for exciting analysis in PPT form which will help the business manager gain insights from the customer reviews, for example –\n",
    "   \n",
    "    -   most sought after features by women in the apparels,\n",
    "    \n",
    "    -   drivers for recommending the product to other,\n",
    "    \n",
    "    -   extract topic or concept based features from reviews \n",
    "    \n",
    "    -   Deep dive on the features by age group, product group/class"
   ]
  },
  {
   "cell_type": "code",
   "execution_count": 2,
   "metadata": {
    "collapsed": false
   },
   "outputs": [
    {
     "name": "stderr",
     "output_type": "stream",
     "text": [
      "/home/sayali/anaconda3/lib/python3.5/site-packages/nltk/twitter/__init__.py:20: UserWarning: The twython library has not been installed. Some functionality from the twitter package will not be available.\n",
      "  warnings.warn(\"The twython library has not been installed. \"\n"
     ]
    }
   ],
   "source": [
    "import pandas as pd\n",
    "import numpy as np\n",
    "import matplotlib.pyplot as plt\n",
    "import seaborn as sns\n",
    "%matplotlib inline \n",
    "\n",
    "\n",
    "import random\n",
    "import re\n",
    "import nltk\n",
    "import string\n",
    "from nltk.corpus import stopwords\n",
    "from nltk.stem import PorterStemmer\n",
    "from nltk.util import ngrams\n",
    "\n",
    "from collections import Counter\n",
    "\n",
    "# Warnings\n",
    "import warnings\n",
    "warnings.filterwarnings('ignore')"
   ]
  },
  {
   "cell_type": "code",
   "execution_count": 41,
   "metadata": {
    "collapsed": true
   },
   "outputs": [],
   "source": [
    "data = pd.read_csv('./Womens Clothing E-Commerce Reviews.csv', header=0, index_col=0)\n",
    "#data = pd.read_csv('WomensClothingE-CommerceReviews.csv', header=0, index_col=0)"
   ]
  },
  {
   "cell_type": "code",
   "execution_count": 42,
   "metadata": {
    "collapsed": false
   },
   "outputs": [
    {
     "data": {
      "text/html": [
       "<div>\n",
       "<style>\n",
       "    .dataframe thead tr:only-child th {\n",
       "        text-align: right;\n",
       "    }\n",
       "\n",
       "    .dataframe thead th {\n",
       "        text-align: left;\n",
       "    }\n",
       "\n",
       "    .dataframe tbody tr th {\n",
       "        vertical-align: top;\n",
       "    }\n",
       "</style>\n",
       "<table border=\"1\" class=\"dataframe\">\n",
       "  <thead>\n",
       "    <tr style=\"text-align: right;\">\n",
       "      <th></th>\n",
       "      <th>Clothing ID</th>\n",
       "      <th>Age</th>\n",
       "      <th>Title</th>\n",
       "      <th>Review Text</th>\n",
       "      <th>Rating</th>\n",
       "      <th>Recommended IND</th>\n",
       "      <th>Positive Feedback Count</th>\n",
       "      <th>Division Name</th>\n",
       "      <th>Department Name</th>\n",
       "      <th>Class Name</th>\n",
       "    </tr>\n",
       "  </thead>\n",
       "  <tbody>\n",
       "    <tr>\n",
       "      <th>0</th>\n",
       "      <td>767</td>\n",
       "      <td>33</td>\n",
       "      <td>NaN</td>\n",
       "      <td>Absolutely wonderful - silky and sexy and comf...</td>\n",
       "      <td>4</td>\n",
       "      <td>1</td>\n",
       "      <td>0</td>\n",
       "      <td>Initmates</td>\n",
       "      <td>Intimate</td>\n",
       "      <td>Intimates</td>\n",
       "    </tr>\n",
       "  </tbody>\n",
       "</table>\n",
       "</div>"
      ],
      "text/plain": [
       "   Clothing ID  Age Title                                        Review Text  \\\n",
       "0          767   33   NaN  Absolutely wonderful - silky and sexy and comf...   \n",
       "\n",
       "   Rating  Recommended IND  Positive Feedback Count Division Name  \\\n",
       "0       4                1                        0     Initmates   \n",
       "\n",
       "  Department Name Class Name  \n",
       "0        Intimate  Intimates  "
      ]
     },
     "execution_count": 42,
     "metadata": {},
     "output_type": "execute_result"
    }
   ],
   "source": [
    "data.head(1)"
   ]
  },
  {
   "cell_type": "code",
   "execution_count": 43,
   "metadata": {
    "collapsed": false
   },
   "outputs": [
    {
     "name": "stdout",
     "output_type": "stream",
     "text": [
      "size of data is - (rows,col) (23486, 10)\n"
     ]
    }
   ],
   "source": [
    "print('size of data is - (rows,col)', data.shape)"
   ]
  },
  {
   "cell_type": "code",
   "execution_count": 44,
   "metadata": {
    "collapsed": false
   },
   "outputs": [
    {
     "name": "stdout",
     "output_type": "stream",
     "text": [
      "Data Types of columns - \n"
     ]
    },
    {
     "data": {
      "text/plain": [
       "Clothing ID                 int64\n",
       "Age                         int64\n",
       "Title                      object\n",
       "Review Text                object\n",
       "Rating                      int64\n",
       "Recommended IND             int64\n",
       "Positive Feedback Count     int64\n",
       "Division Name              object\n",
       "Department Name            object\n",
       "Class Name                 object\n",
       "dtype: object"
      ]
     },
     "execution_count": 44,
     "metadata": {},
     "output_type": "execute_result"
    }
   ],
   "source": [
    "print('Data Types of columns - ')\n",
    "data.dtypes"
   ]
  },
  {
   "cell_type": "code",
   "execution_count": 46,
   "metadata": {
    "collapsed": false
   },
   "outputs": [
    {
     "data": {
      "text/html": [
       "<div>\n",
       "<style>\n",
       "    .dataframe thead tr:only-child th {\n",
       "        text-align: right;\n",
       "    }\n",
       "\n",
       "    .dataframe thead th {\n",
       "        text-align: left;\n",
       "    }\n",
       "\n",
       "    .dataframe tbody tr th {\n",
       "        vertical-align: top;\n",
       "    }\n",
       "</style>\n",
       "<table border=\"1\" class=\"dataframe\">\n",
       "  <thead>\n",
       "    <tr style=\"text-align: right;\">\n",
       "      <th></th>\n",
       "      <th>Clothing ID</th>\n",
       "      <th>Age</th>\n",
       "      <th>Rating</th>\n",
       "      <th>Recommended IND</th>\n",
       "      <th>Positive Feedback Count</th>\n",
       "    </tr>\n",
       "  </thead>\n",
       "  <tbody>\n",
       "    <tr>\n",
       "      <th>count</th>\n",
       "      <td>23486.000000</td>\n",
       "      <td>23486.000000</td>\n",
       "      <td>23486.000000</td>\n",
       "      <td>23486.000000</td>\n",
       "      <td>23486.000000</td>\n",
       "    </tr>\n",
       "    <tr>\n",
       "      <th>mean</th>\n",
       "      <td>918.118709</td>\n",
       "      <td>43.198544</td>\n",
       "      <td>4.196032</td>\n",
       "      <td>0.822362</td>\n",
       "      <td>2.535936</td>\n",
       "    </tr>\n",
       "    <tr>\n",
       "      <th>std</th>\n",
       "      <td>203.298980</td>\n",
       "      <td>12.279544</td>\n",
       "      <td>1.110031</td>\n",
       "      <td>0.382216</td>\n",
       "      <td>5.702202</td>\n",
       "    </tr>\n",
       "    <tr>\n",
       "      <th>min</th>\n",
       "      <td>0.000000</td>\n",
       "      <td>18.000000</td>\n",
       "      <td>1.000000</td>\n",
       "      <td>0.000000</td>\n",
       "      <td>0.000000</td>\n",
       "    </tr>\n",
       "    <tr>\n",
       "      <th>25%</th>\n",
       "      <td>861.000000</td>\n",
       "      <td>34.000000</td>\n",
       "      <td>4.000000</td>\n",
       "      <td>1.000000</td>\n",
       "      <td>0.000000</td>\n",
       "    </tr>\n",
       "    <tr>\n",
       "      <th>50%</th>\n",
       "      <td>936.000000</td>\n",
       "      <td>41.000000</td>\n",
       "      <td>5.000000</td>\n",
       "      <td>1.000000</td>\n",
       "      <td>1.000000</td>\n",
       "    </tr>\n",
       "    <tr>\n",
       "      <th>75%</th>\n",
       "      <td>1078.000000</td>\n",
       "      <td>52.000000</td>\n",
       "      <td>5.000000</td>\n",
       "      <td>1.000000</td>\n",
       "      <td>3.000000</td>\n",
       "    </tr>\n",
       "    <tr>\n",
       "      <th>max</th>\n",
       "      <td>1205.000000</td>\n",
       "      <td>99.000000</td>\n",
       "      <td>5.000000</td>\n",
       "      <td>1.000000</td>\n",
       "      <td>122.000000</td>\n",
       "    </tr>\n",
       "  </tbody>\n",
       "</table>\n",
       "</div>"
      ],
      "text/plain": [
       "        Clothing ID           Age        Rating  Recommended IND  \\\n",
       "count  23486.000000  23486.000000  23486.000000     23486.000000   \n",
       "mean     918.118709     43.198544      4.196032         0.822362   \n",
       "std      203.298980     12.279544      1.110031         0.382216   \n",
       "min        0.000000     18.000000      1.000000         0.000000   \n",
       "25%      861.000000     34.000000      4.000000         1.000000   \n",
       "50%      936.000000     41.000000      5.000000         1.000000   \n",
       "75%     1078.000000     52.000000      5.000000         1.000000   \n",
       "max     1205.000000     99.000000      5.000000         1.000000   \n",
       "\n",
       "       Positive Feedback Count  \n",
       "count             23486.000000  \n",
       "mean                  2.535936  \n",
       "std                   5.702202  \n",
       "min                   0.000000  \n",
       "25%                   0.000000  \n",
       "50%                   1.000000  \n",
       "75%                   3.000000  \n",
       "max                 122.000000  "
      ]
     },
     "execution_count": 46,
     "metadata": {},
     "output_type": "execute_result"
    }
   ],
   "source": [
    "data.describe()"
   ]
  },
  {
   "cell_type": "code",
   "execution_count": 47,
   "metadata": {
    "collapsed": false
   },
   "outputs": [
    {
     "data": {
      "text/html": [
       "<div>\n",
       "<style>\n",
       "    .dataframe thead tr:only-child th {\n",
       "        text-align: right;\n",
       "    }\n",
       "\n",
       "    .dataframe thead th {\n",
       "        text-align: left;\n",
       "    }\n",
       "\n",
       "    .dataframe tbody tr th {\n",
       "        vertical-align: top;\n",
       "    }\n",
       "</style>\n",
       "<table border=\"1\" class=\"dataframe\">\n",
       "  <thead>\n",
       "    <tr style=\"text-align: right;\">\n",
       "      <th></th>\n",
       "      <th>Title</th>\n",
       "      <th>Review Text</th>\n",
       "      <th>Division Name</th>\n",
       "      <th>Department Name</th>\n",
       "      <th>Class Name</th>\n",
       "    </tr>\n",
       "  </thead>\n",
       "  <tbody>\n",
       "    <tr>\n",
       "      <th>count</th>\n",
       "      <td>19676</td>\n",
       "      <td>22641</td>\n",
       "      <td>23472</td>\n",
       "      <td>23472</td>\n",
       "      <td>23472</td>\n",
       "    </tr>\n",
       "    <tr>\n",
       "      <th>unique</th>\n",
       "      <td>13993</td>\n",
       "      <td>22634</td>\n",
       "      <td>3</td>\n",
       "      <td>6</td>\n",
       "      <td>20</td>\n",
       "    </tr>\n",
       "    <tr>\n",
       "      <th>top</th>\n",
       "      <td>Love it!</td>\n",
       "      <td>Perfect fit and i've gotten so many compliment...</td>\n",
       "      <td>General</td>\n",
       "      <td>Tops</td>\n",
       "      <td>Dresses</td>\n",
       "    </tr>\n",
       "    <tr>\n",
       "      <th>freq</th>\n",
       "      <td>136</td>\n",
       "      <td>3</td>\n",
       "      <td>13850</td>\n",
       "      <td>10468</td>\n",
       "      <td>6319</td>\n",
       "    </tr>\n",
       "  </tbody>\n",
       "</table>\n",
       "</div>"
      ],
      "text/plain": [
       "           Title                                        Review Text  \\\n",
       "count      19676                                              22641   \n",
       "unique     13993                                              22634   \n",
       "top     Love it!  Perfect fit and i've gotten so many compliment...   \n",
       "freq         136                                                  3   \n",
       "\n",
       "       Division Name Department Name Class Name  \n",
       "count          23472           23472      23472  \n",
       "unique             3               6         20  \n",
       "top          General            Tops    Dresses  \n",
       "freq           13850           10468       6319  "
      ]
     },
     "execution_count": 47,
     "metadata": {},
     "output_type": "execute_result"
    }
   ],
   "source": [
    "data.describe(include = ['O'])"
   ]
  },
  {
   "cell_type": "markdown",
   "metadata": {},
   "source": [
    "It seems there are missing values in Title and Review Text"
   ]
  },
  {
   "cell_type": "markdown",
   "metadata": {},
   "source": [
    "DivisionName, DepartmenrName and ClassName NA values can be discarted. "
   ]
  },
  {
   "cell_type": "code",
   "execution_count": 49,
   "metadata": {
    "collapsed": false
   },
   "outputs": [
    {
     "data": {
      "text/plain": [
       "(22628, 10)"
      ]
     },
     "execution_count": 49,
     "metadata": {},
     "output_type": "execute_result"
    }
   ],
   "source": [
    "for i in [\"Division Name\",\"Department Name\",\"Class Name\",\"Review Text\"]:\n",
    "    data = data[data[i].notnull()]\n",
    "data.shape"
   ]
  },
  {
   "cell_type": "markdown",
   "metadata": {},
   "source": [
    "Get Unique value count for each column"
   ]
  },
  {
   "cell_type": "code",
   "execution_count": 50,
   "metadata": {
    "collapsed": true
   },
   "outputs": [],
   "source": [
    "unique_count = []\n",
    "for i in data.columns:\n",
    "    unique_count.append([i,len(data[i].unique()),data[i].isnull().sum()])"
   ]
  },
  {
   "cell_type": "markdown",
   "metadata": {},
   "source": [
    "Verify If any missing value still exists"
   ]
  },
  {
   "cell_type": "code",
   "execution_count": 51,
   "metadata": {
    "collapsed": false
   },
   "outputs": [
    {
     "data": {
      "text/html": [
       "<div>\n",
       "<style>\n",
       "    .dataframe thead tr:only-child th {\n",
       "        text-align: right;\n",
       "    }\n",
       "\n",
       "    .dataframe thead th {\n",
       "        text-align: left;\n",
       "    }\n",
       "\n",
       "    .dataframe tbody tr th {\n",
       "        vertical-align: top;\n",
       "    }\n",
       "</style>\n",
       "<table border=\"1\" class=\"dataframe\">\n",
       "  <thead>\n",
       "    <tr style=\"text-align: right;\">\n",
       "      <th></th>\n",
       "      <th>Title</th>\n",
       "      <th>Review Text</th>\n",
       "      <th>Division Name</th>\n",
       "      <th>Department Name</th>\n",
       "      <th>Class Name</th>\n",
       "    </tr>\n",
       "  </thead>\n",
       "  <tbody>\n",
       "    <tr>\n",
       "      <th>count</th>\n",
       "      <td>19662</td>\n",
       "      <td>22628</td>\n",
       "      <td>22628</td>\n",
       "      <td>22628</td>\n",
       "      <td>22628</td>\n",
       "    </tr>\n",
       "    <tr>\n",
       "      <th>unique</th>\n",
       "      <td>13983</td>\n",
       "      <td>22621</td>\n",
       "      <td>3</td>\n",
       "      <td>6</td>\n",
       "      <td>20</td>\n",
       "    </tr>\n",
       "    <tr>\n",
       "      <th>top</th>\n",
       "      <td>Love it!</td>\n",
       "      <td>Perfect fit and i've gotten so many compliment...</td>\n",
       "      <td>General</td>\n",
       "      <td>Tops</td>\n",
       "      <td>Dresses</td>\n",
       "    </tr>\n",
       "    <tr>\n",
       "      <th>freq</th>\n",
       "      <td>136</td>\n",
       "      <td>3</td>\n",
       "      <td>13365</td>\n",
       "      <td>10048</td>\n",
       "      <td>6145</td>\n",
       "    </tr>\n",
       "  </tbody>\n",
       "</table>\n",
       "</div>"
      ],
      "text/plain": [
       "           Title                                        Review Text  \\\n",
       "count      19662                                              22628   \n",
       "unique     13983                                              22621   \n",
       "top     Love it!  Perfect fit and i've gotten so many compliment...   \n",
       "freq         136                                                  3   \n",
       "\n",
       "       Division Name Department Name Class Name  \n",
       "count          22628           22628      22628  \n",
       "unique             3               6         20  \n",
       "top          General            Tops    Dresses  \n",
       "freq           13365           10048       6145  "
      ]
     },
     "execution_count": 51,
     "metadata": {},
     "output_type": "execute_result"
    }
   ],
   "source": [
    "data.describe(include = ['O'])"
   ]
  },
  {
   "cell_type": "code",
   "execution_count": 52,
   "metadata": {
    "collapsed": false
   },
   "outputs": [
    {
     "name": "stdout",
     "output_type": "stream",
     "text": [
      "Missing Values: 2966\n"
     ]
    }
   ],
   "source": [
    "print(\"Missing Values: {}\".format(data.isnull().sum().sum()))"
   ]
  },
  {
   "cell_type": "markdown",
   "metadata": {},
   "source": [
    "There are still some missing values in title.\n",
    "\n",
    "\n",
    "\n",
    "#### Calculate no of words in each review"
   ]
  },
  {
   "cell_type": "code",
   "execution_count": 54,
   "metadata": {
    "collapsed": false
   },
   "outputs": [],
   "source": [
    "data[\"Word Count\"] = data['Review Text'].str.split().apply(len)"
   ]
  },
  {
   "cell_type": "markdown",
   "metadata": {},
   "source": [
    "#### Calculate no of words in each review"
   ]
  },
  {
   "cell_type": "code",
   "execution_count": 55,
   "metadata": {
    "collapsed": true
   },
   "outputs": [],
   "source": [
    "data[\"Character Count\"] = data['Review Text'].apply(len)"
   ]
  },
  {
   "cell_type": "markdown",
   "metadata": {},
   "source": [
    "#### Identify if review is positive or Negative"
   ]
  },
  {
   "cell_type": "code",
   "execution_count": 56,
   "metadata": {
    "collapsed": false
   },
   "outputs": [],
   "source": [
    "#data['Rating'] = data.Rating.astype('number')\n",
    "#data['Rating'] = pd.to_numeric(data.Rating, errors='coerce')\n",
    "#data['Recommended IND'] = pd.to_numeric(data.RecommendedIND, errors='coerce')\n",
    "#data['Positive Feedback Count'] = pd.to_numeric(data.PositiveFeedbackCount, errors='coerce')\n",
    "data[\"Label\"] = 0\n",
    "data.loc[data.Rating >= 3,[\"Label\"]] = 1"
   ]
  },
  {
   "cell_type": "code",
   "execution_count": 57,
   "metadata": {
    "collapsed": false
   },
   "outputs": [
    {
     "data": {
      "text/html": [
       "<div>\n",
       "<style>\n",
       "    .dataframe thead tr:only-child th {\n",
       "        text-align: right;\n",
       "    }\n",
       "\n",
       "    .dataframe thead th {\n",
       "        text-align: left;\n",
       "    }\n",
       "\n",
       "    .dataframe tbody tr th {\n",
       "        vertical-align: top;\n",
       "    }\n",
       "</style>\n",
       "<table border=\"1\" class=\"dataframe\">\n",
       "  <thead>\n",
       "    <tr style=\"text-align: right;\">\n",
       "      <th></th>\n",
       "      <th>count</th>\n",
       "      <th>mean</th>\n",
       "      <th>std</th>\n",
       "      <th>min</th>\n",
       "      <th>25%</th>\n",
       "      <th>50%</th>\n",
       "      <th>75%</th>\n",
       "      <th>max</th>\n",
       "    </tr>\n",
       "  </thead>\n",
       "  <tbody>\n",
       "    <tr>\n",
       "      <th>Clothing ID</th>\n",
       "      <td>22628.0</td>\n",
       "      <td>919.695908</td>\n",
       "      <td>201.683804</td>\n",
       "      <td>1.0</td>\n",
       "      <td>861.0</td>\n",
       "      <td>936.0</td>\n",
       "      <td>1078.0</td>\n",
       "      <td>1205.0</td>\n",
       "    </tr>\n",
       "    <tr>\n",
       "      <th>Age</th>\n",
       "      <td>22628.0</td>\n",
       "      <td>43.282880</td>\n",
       "      <td>12.328176</td>\n",
       "      <td>18.0</td>\n",
       "      <td>34.0</td>\n",
       "      <td>41.0</td>\n",
       "      <td>52.0</td>\n",
       "      <td>99.0</td>\n",
       "    </tr>\n",
       "    <tr>\n",
       "      <th>Rating</th>\n",
       "      <td>22628.0</td>\n",
       "      <td>4.183092</td>\n",
       "      <td>1.115911</td>\n",
       "      <td>1.0</td>\n",
       "      <td>4.0</td>\n",
       "      <td>5.0</td>\n",
       "      <td>5.0</td>\n",
       "      <td>5.0</td>\n",
       "    </tr>\n",
       "    <tr>\n",
       "      <th>Recommended IND</th>\n",
       "      <td>22628.0</td>\n",
       "      <td>0.818764</td>\n",
       "      <td>0.385222</td>\n",
       "      <td>0.0</td>\n",
       "      <td>1.0</td>\n",
       "      <td>1.0</td>\n",
       "      <td>1.0</td>\n",
       "      <td>1.0</td>\n",
       "    </tr>\n",
       "    <tr>\n",
       "      <th>Positive Feedback Count</th>\n",
       "      <td>22628.0</td>\n",
       "      <td>2.631784</td>\n",
       "      <td>5.787520</td>\n",
       "      <td>0.0</td>\n",
       "      <td>0.0</td>\n",
       "      <td>1.0</td>\n",
       "      <td>3.0</td>\n",
       "      <td>122.0</td>\n",
       "    </tr>\n",
       "    <tr>\n",
       "      <th>Word Count</th>\n",
       "      <td>22628.0</td>\n",
       "      <td>60.211950</td>\n",
       "      <td>28.533053</td>\n",
       "      <td>2.0</td>\n",
       "      <td>36.0</td>\n",
       "      <td>59.0</td>\n",
       "      <td>88.0</td>\n",
       "      <td>115.0</td>\n",
       "    </tr>\n",
       "    <tr>\n",
       "      <th>Character Count</th>\n",
       "      <td>22628.0</td>\n",
       "      <td>308.761534</td>\n",
       "      <td>143.934126</td>\n",
       "      <td>9.0</td>\n",
       "      <td>186.0</td>\n",
       "      <td>302.0</td>\n",
       "      <td>459.0</td>\n",
       "      <td>508.0</td>\n",
       "    </tr>\n",
       "    <tr>\n",
       "      <th>Label</th>\n",
       "      <td>22628.0</td>\n",
       "      <td>0.895263</td>\n",
       "      <td>0.306222</td>\n",
       "      <td>0.0</td>\n",
       "      <td>1.0</td>\n",
       "      <td>1.0</td>\n",
       "      <td>1.0</td>\n",
       "      <td>1.0</td>\n",
       "    </tr>\n",
       "  </tbody>\n",
       "</table>\n",
       "</div>"
      ],
      "text/plain": [
       "                           count        mean         std   min    25%    50%  \\\n",
       "Clothing ID              22628.0  919.695908  201.683804   1.0  861.0  936.0   \n",
       "Age                      22628.0   43.282880   12.328176  18.0   34.0   41.0   \n",
       "Rating                   22628.0    4.183092    1.115911   1.0    4.0    5.0   \n",
       "Recommended IND          22628.0    0.818764    0.385222   0.0    1.0    1.0   \n",
       "Positive Feedback Count  22628.0    2.631784    5.787520   0.0    0.0    1.0   \n",
       "Word Count               22628.0   60.211950   28.533053   2.0   36.0   59.0   \n",
       "Character Count          22628.0  308.761534  143.934126   9.0  186.0  302.0   \n",
       "Label                    22628.0    0.895263    0.306222   0.0    1.0    1.0   \n",
       "\n",
       "                            75%     max  \n",
       "Clothing ID              1078.0  1205.0  \n",
       "Age                        52.0    99.0  \n",
       "Rating                      5.0     5.0  \n",
       "Recommended IND             1.0     1.0  \n",
       "Positive Feedback Count     3.0   122.0  \n",
       "Word Count                 88.0   115.0  \n",
       "Character Count           459.0   508.0  \n",
       "Label                       1.0     1.0  "
      ]
     },
     "execution_count": 57,
     "metadata": {},
     "output_type": "execute_result"
    }
   ],
   "source": [
    "data.describe().T"
   ]
  },
  {
   "cell_type": "markdown",
   "metadata": {},
   "source": [
    "### How many unique values"
   ]
  },
  {
   "cell_type": "code",
   "execution_count": 58,
   "metadata": {
    "collapsed": false
   },
   "outputs": [
    {
     "data": {
      "text/html": [
       "<div>\n",
       "<style>\n",
       "    .dataframe thead tr:only-child th {\n",
       "        text-align: right;\n",
       "    }\n",
       "\n",
       "    .dataframe thead th {\n",
       "        text-align: left;\n",
       "    }\n",
       "\n",
       "    .dataframe tbody tr th {\n",
       "        vertical-align: top;\n",
       "    }\n",
       "</style>\n",
       "<table border=\"1\" class=\"dataframe\">\n",
       "  <thead>\n",
       "    <tr style=\"text-align: right;\">\n",
       "      <th>Column</th>\n",
       "      <th>Clothing ID</th>\n",
       "      <th>Age</th>\n",
       "      <th>Title</th>\n",
       "      <th>Review Text</th>\n",
       "      <th>Rating</th>\n",
       "      <th>Recommended IND</th>\n",
       "      <th>Positive Feedback Count</th>\n",
       "      <th>Division Name</th>\n",
       "      <th>Department Name</th>\n",
       "      <th>Class Name</th>\n",
       "    </tr>\n",
       "  </thead>\n",
       "  <tbody>\n",
       "    <tr>\n",
       "      <th>Unique</th>\n",
       "      <td>1172</td>\n",
       "      <td>77</td>\n",
       "      <td>13984</td>\n",
       "      <td>22621</td>\n",
       "      <td>5</td>\n",
       "      <td>2</td>\n",
       "      <td>82</td>\n",
       "      <td>3</td>\n",
       "      <td>6</td>\n",
       "      <td>20</td>\n",
       "    </tr>\n",
       "    <tr>\n",
       "      <th>Missing</th>\n",
       "      <td>0</td>\n",
       "      <td>0</td>\n",
       "      <td>2966</td>\n",
       "      <td>0</td>\n",
       "      <td>0</td>\n",
       "      <td>0</td>\n",
       "      <td>0</td>\n",
       "      <td>0</td>\n",
       "      <td>0</td>\n",
       "      <td>0</td>\n",
       "    </tr>\n",
       "  </tbody>\n",
       "</table>\n",
       "</div>"
      ],
      "text/plain": [
       "Column   Clothing ID  Age  Title  Review Text  Rating  Recommended IND  \\\n",
       "Unique          1172   77  13984        22621       5                2   \n",
       "Missing            0    0   2966            0       0                0   \n",
       "\n",
       "Column   Positive Feedback Count  Division Name  Department Name  Class Name  \n",
       "Unique                        82              3                6          20  \n",
       "Missing                        0              0                0           0  "
      ]
     },
     "execution_count": 58,
     "metadata": {},
     "output_type": "execute_result"
    }
   ],
   "source": [
    "pd.DataFrame(unique_count, columns=[\"Column\",\"Unique\",\"Missing\"]).set_index(\"Column\").T"
   ]
  },
  {
   "cell_type": "code",
   "execution_count": 60,
   "metadata": {
    "collapsed": false
   },
   "outputs": [
    {
     "data": {
      "text/html": [
       "<div>\n",
       "<style>\n",
       "    .dataframe thead tr:only-child th {\n",
       "        text-align: right;\n",
       "    }\n",
       "\n",
       "    .dataframe thead th {\n",
       "        text-align: left;\n",
       "    }\n",
       "\n",
       "    .dataframe tbody tr th {\n",
       "        vertical-align: top;\n",
       "    }\n",
       "</style>\n",
       "<table border=\"1\" class=\"dataframe\">\n",
       "  <thead>\n",
       "    <tr style=\"text-align: right;\">\n",
       "      <th></th>\n",
       "      <th>unique</th>\n",
       "      <th>top</th>\n",
       "      <th>freq</th>\n",
       "    </tr>\n",
       "  </thead>\n",
       "  <tbody>\n",
       "    <tr>\n",
       "      <th>Title</th>\n",
       "      <td>13983</td>\n",
       "      <td>Love it!</td>\n",
       "      <td>136</td>\n",
       "    </tr>\n",
       "    <tr>\n",
       "      <th>Division Name</th>\n",
       "      <td>3</td>\n",
       "      <td>General</td>\n",
       "      <td>13365</td>\n",
       "    </tr>\n",
       "    <tr>\n",
       "      <th>Department Name</th>\n",
       "      <td>6</td>\n",
       "      <td>Tops</td>\n",
       "      <td>10048</td>\n",
       "    </tr>\n",
       "    <tr>\n",
       "      <th>Class Name</th>\n",
       "      <td>20</td>\n",
       "      <td>Dresses</td>\n",
       "      <td>6145</td>\n",
       "    </tr>\n",
       "  </tbody>\n",
       "</table>\n",
       "</div>"
      ],
      "text/plain": [
       "                unique       top   freq\n",
       "Title            13983  Love it!    136\n",
       "Division Name        3   General  13365\n",
       "Department Name      6      Tops  10048\n",
       "Class Name          20   Dresses   6145"
      ]
     },
     "execution_count": 60,
     "metadata": {},
     "output_type": "execute_result"
    }
   ],
   "source": [
    "data[[\"Title\", \"Division Name\",\"Department Name\",\"Class Name\"]].describe(include=[\"O\"]).T.drop(\"count\",axis=1)"
   ]
  },
  {
   "cell_type": "markdown",
   "metadata": {},
   "source": [
    "## -   most sought after features by women in the apparels,"
   ]
  },
  {
   "cell_type": "code",
   "execution_count": 75,
   "metadata": {
    "collapsed": true
   },
   "outputs": [],
   "source": [
    "def percentstandardize_barplot(x,y,hue, data, ax=None, order= None):\n",
    "    sns.barplot(x= x, y=y, hue=hue, ax=ax, order=order,\n",
    "    data=(data[[x, hue]]\n",
    "     .reset_index(drop=True)\n",
    "     .groupby([x])[hue]\n",
    "     .value_counts(normalize=True)\n",
    "     .rename('Percentage').mul(100)\n",
    "     .reset_index()\n",
    "     .sort_values(hue)))\n",
    "    plt.title(\"Percentage Frequency of {} by {}\".format(hue,x))\n",
    "    plt.ylabel(\"Percentage %\")"
   ]
  },
  {
   "cell_type": "code",
   "execution_count": 78,
   "metadata": {
    "collapsed": false
   },
   "outputs": [
    {
     "data": {
      "image/png": "[encoded data removed]",
      "text/plain": [
       "<matplotlib.figure.Figure at 0x7f54782b3518>"
      ]
     },
     "metadata": {},
     "output_type": "display_data"
    }
   ],
   "source": [
    "plt.subplots(figsize=(9,5))\n",
    "sns.countplot(y=\"Class Name\", data=data,order=data[\"Class Name\"].value_counts().index)\n",
    "plt.title(\"Class\")\n",
    "plt.xlabel(\"Count\")\n",
    "plt.show()"
   ]
  },
  {
   "cell_type": "markdown",
   "metadata": {},
   "source": [
    "## Dresses, IKnits, Blouses are most seek items by women"
   ]
  },
  {
   "cell_type": "markdown",
   "metadata": {},
   "source": [
    "## -   drivers for recommending the product to other,"
   ]
  },
  {
   "cell_type": "code",
   "execution_count": 83,
   "metadata": {
    "collapsed": false
   },
   "outputs": [
    {
     "data": {
      "text/plain": [
       "<seaborn.axisgrid.FacetGrid at 0x7f5478ae6390>"
      ]
     },
     "execution_count": 83,
     "metadata": {},
     "output_type": "execute_result"
    },
    {
     "data": {
      "image/png": "[encoded data removed]",
      "text/plain": [
       "<matplotlib.figure.Figure at 0x7f5478add518>"
      ]
     },
     "metadata": {},
     "output_type": "display_data"
    }
   ],
   "source": [
    "g = sns.FacetGrid(data=data, col='Rating')\n",
    "g.map(plt.hist, 'Word Count', bins=50)"
   ]
  },
  {
   "cell_type": "code",
   "execution_count": 80,
   "metadata": {
    "collapsed": false
   },
   "outputs": [
    {
     "data": {
      "image/png": "[encoded data removed]",
      "text/plain": [
       "<matplotlib.figure.Figure at 0x7f547a899208>"
      ]
     },
     "metadata": {},
     "output_type": "display_data"
    }
   ],
   "source": [
    "xvar = [\"Department Name\",\"Division Name\"]\n",
    "huevar = \"Rating\"\n",
    "f, axes = plt.subplots(1,2,figsize=(12,5))\n",
    "percentstandardize_barplot(x=xvar[0],y=\"Percentage\", hue=huevar,data=data, ax=axes[0])\n",
    "axes[0].set_title(\"Percentage Frequency of {}\\nby {}\".format(huevar, xvar[0]))\n",
    "axes[0].set_ylabel(\"Percentage %\")\n",
    "percentstandardize_barplot(x=xvar[1],y=\"Percentage\", hue=\"Rating\",data=data, ax=axes[1])\n",
    "axes[1].set_title(\"Percentage Frequency of {}\\nby {}\".format(huevar, xvar[1]))\n",
    "plt.show()"
   ]
  },
  {
   "cell_type": "markdown",
   "metadata": {},
   "source": [
    "## We can recommand Higly positively rated products to other users. It seems 5 rated products have longer review comments"
   ]
  },
  {
   "cell_type": "code",
   "execution_count": 102,
   "metadata": {
    "collapsed": false
   },
   "outputs": [
    {
     "data": {
      "text/html": [
       "<div>\n",
       "<style>\n",
       "    .dataframe thead tr:only-child th {\n",
       "        text-align: right;\n",
       "    }\n",
       "\n",
       "    .dataframe thead th {\n",
       "        text-align: left;\n",
       "    }\n",
       "\n",
       "    .dataframe tbody tr th {\n",
       "        vertical-align: top;\n",
       "    }\n",
       "</style>\n",
       "<table border=\"1\" class=\"dataframe\">\n",
       "  <thead>\n",
       "    <tr style=\"text-align: right;\">\n",
       "      <th></th>\n",
       "      <th>Title</th>\n",
       "      <th>Review Text</th>\n",
       "      <th>Rating</th>\n",
       "    </tr>\n",
       "  </thead>\n",
       "  <tbody>\n",
       "    <tr>\n",
       "      <th>5155</th>\n",
       "      <td>A flattering over-sized shirt</td>\n",
       "      <td>I generally wear a small or medium in tops, and decided to get the medium/large. it's over-sized, but it lays very nicely and doesn't look \"frumpy\". the back of the shirt is exactly as it looks in the picture. the front of the shirt is more of a solid blue than is shown, but still lovely.</td>\n",
       "      <td>5</td>\n",
       "    </tr>\n",
       "  </tbody>\n",
       "</table>\n",
       "</div>"
      ],
      "text/plain": [
       "                              Title  \\\n",
       "5155  A flattering over-sized shirt   \n",
       "\n",
       "                                                                                                                                                                                                                                                                                            Review Text  \\\n",
       "5155  I generally wear a small or medium in tops, and decided to get the medium/large. it's over-sized, but it lays very nicely and doesn't look \"frumpy\". the back of the shirt is exactly as it looks in the picture. the front of the shirt is more of a solid blue than is shown, but still lovely.   \n",
       "\n",
       "      Rating  \n",
       "5155       5  "
      ]
     },
     "execution_count": 102,
     "metadata": {},
     "output_type": "execute_result"
    }
   ],
   "source": [
    "pd.set_option('max_colwidth', 500)\n",
    "data[[\"Title\",\"Review Text\", \"Rating\"]].sample(1)"
   ]
  },
  {
   "cell_type": "markdown",
   "metadata": {},
   "source": [
    "### Text Preprocessing"
   ]
  },
  {
   "cell_type": "code",
   "execution_count": 69,
   "metadata": {
    "collapsed": true
   },
   "outputs": [],
   "source": [
    "from nltk.stem.lancaster import LancasterStemmer\n",
    "from nltk.stem.porter import PorterStemmer\n",
    "#ps = LancasterStemmer()\n",
    "ps = PorterStemmer()\n",
    "\n",
    "tokenizer = RegexpTokenizer(r'\\w+')\n",
    "stop_words = set(stopwords.words('english'))\n",
    "\n",
    "def preprocessing(data):\n",
    "    txt = data.str.lower().str.cat(sep=' ') \n",
    "    words = tokenizer.tokenize(txt) \n",
    "    words = [w for w in words if not w in stop_words] \n",
    "    words = [ps.stem(w) for w in words] \n",
    "    return words"
   ]
  },
  {
   "cell_type": "code",
   "execution_count": 71,
   "metadata": {
    "collapsed": true
   },
   "outputs": [],
   "source": [
    "def get_ngrams(text, n):\n",
    "    n_grams = ngrams((text), n)\n",
    "    return [ ' '.join(grams) for grams in n_grams]\n",
    "\n",
    "def gramfreq(text,n,num):\n",
    "    # Extracting bigrams\n",
    "    result = get_ngrams(text,n)\n",
    "    # Counting bigrams\n",
    "    result_count = Counter(result)\n",
    "    # Converting to the result to a data frame\n",
    "    df = pd.DataFrame.from_dict(result_count, orient='index')\n",
    "    df = df.rename(columns={'index':'words', 0:'frequency'}) # Renaming index column name\n",
    "    return df.sort_values([\"frequency\"],ascending=[0])[:num]\n",
    "\n",
    "def gram_table(data, gram, length):\n",
    "    out = pd.DataFrame(index=None)\n",
    "    for i in gram:\n",
    "        table = pd.DataFrame(gramfreq(preprocessing(data),i,length).reset_index())\n",
    "        table.columns = [\"{}-Gram\".format(i),\"Occurrence\"]\n",
    "        out = pd.concat([out, table], axis=1)\n",
    "    return out"
   ]
  },
  {
   "cell_type": "code",
   "execution_count": 72,
   "metadata": {
    "collapsed": false
   },
   "outputs": [
    {
     "name": "stdout",
     "output_type": "stream",
     "text": [
      "Recommended Items\n"
     ]
    },
    {
     "data": {
      "text/html": [
       "<div>\n",
       "<style>\n",
       "    .dataframe thead tr:only-child th {\n",
       "        text-align: right;\n",
       "    }\n",
       "\n",
       "    .dataframe thead th {\n",
       "        text-align: left;\n",
       "    }\n",
       "\n",
       "    .dataframe tbody tr th {\n",
       "        vertical-align: top;\n",
       "    }\n",
       "</style>\n",
       "<table border=\"1\" class=\"dataframe\">\n",
       "  <thead>\n",
       "    <tr style=\"text-align: right;\">\n",
       "      <th></th>\n",
       "      <th>1-Gram</th>\n",
       "      <th>Occurrence</th>\n",
       "      <th>2-Gram</th>\n",
       "      <th>Occurrence</th>\n",
       "      <th>3-Gram</th>\n",
       "      <th>Occurrence</th>\n",
       "      <th>4-Gram</th>\n",
       "      <th>Occurrence</th>\n",
       "      <th>5-Gram</th>\n",
       "      <th>Occurrence</th>\n",
       "    </tr>\n",
       "  </thead>\n",
       "  <tbody>\n",
       "    <tr>\n",
       "      <th>0</th>\n",
       "      <td>dress</td>\n",
       "      <td>10055</td>\n",
       "      <td>true size</td>\n",
       "      <td>1246</td>\n",
       "      <td>fit true size</td>\n",
       "      <td>460</td>\n",
       "      <td>compliment everi time wear</td>\n",
       "      <td>50</td>\n",
       "      <td>34b 26 waist 36 hip</td>\n",
       "      <td>27</td>\n",
       "    </tr>\n",
       "    <tr>\n",
       "      <th>1</th>\n",
       "      <td>love</td>\n",
       "      <td>9914</td>\n",
       "      <td>fit perfectli</td>\n",
       "      <td>1038</td>\n",
       "      <td>run true size</td>\n",
       "      <td>195</td>\n",
       "      <td>look great skinni jean</td>\n",
       "      <td>32</td>\n",
       "      <td>get compliment everi time wear</td>\n",
       "      <td>25</td>\n",
       "    </tr>\n",
       "    <tr>\n",
       "      <th>2</th>\n",
       "      <td>fit</td>\n",
       "      <td>9794</td>\n",
       "      <td>look great</td>\n",
       "      <td>907</td>\n",
       "      <td>receiv mani compliment</td>\n",
       "      <td>170</td>\n",
       "      <td>26 waist 36 hip</td>\n",
       "      <td>32</td>\n",
       "      <td>5 2 current 33 25</td>\n",
       "      <td>17</td>\n",
       "    </tr>\n",
       "    <tr>\n",
       "      <th>3</th>\n",
       "      <td>size</td>\n",
       "      <td>9125</td>\n",
       "      <td>love dress</td>\n",
       "      <td>792</td>\n",
       "      <td>love love love</td>\n",
       "      <td>139</td>\n",
       "      <td>34b 26 waist 36</td>\n",
       "      <td>28</td>\n",
       "      <td>115 lb 30 dd 26</td>\n",
       "      <td>15</td>\n",
       "    </tr>\n",
       "    <tr>\n",
       "      <th>4</th>\n",
       "      <td>wear</td>\n",
       "      <td>7042</td>\n",
       "      <td>look like</td>\n",
       "      <td>676</td>\n",
       "      <td>small fit perfectli</td>\n",
       "      <td>138</td>\n",
       "      <td>get compliment everi time</td>\n",
       "      <td>27</td>\n",
       "      <td>lb 30 dd 26 5</td>\n",
       "      <td>13</td>\n",
       "    </tr>\n",
       "    <tr>\n",
       "      <th>5</th>\n",
       "      <td>look</td>\n",
       "      <td>6940</td>\n",
       "      <td>5 4</td>\n",
       "      <td>622</td>\n",
       "      <td>fit like glove</td>\n",
       "      <td>130</td>\n",
       "      <td>dress fit true size</td>\n",
       "      <td>23</td>\n",
       "      <td>2 current 33 25 37</td>\n",
       "      <td>13</td>\n",
       "    </tr>\n",
       "    <tr>\n",
       "      <th>6</th>\n",
       "      <td>top</td>\n",
       "      <td>6662</td>\n",
       "      <td>love top</td>\n",
       "      <td>602</td>\n",
       "      <td>usual wear size</td>\n",
       "      <td>109</td>\n",
       "      <td>5 4 120 lb</td>\n",
       "      <td>22</td>\n",
       "      <td>115 lb 30dd 26 5</td>\n",
       "      <td>13</td>\n",
       "    </tr>\n",
       "    <tr>\n",
       "      <th>7</th>\n",
       "      <td>color</td>\n",
       "      <td>6238</td>\n",
       "      <td>usual wear</td>\n",
       "      <td>592</td>\n",
       "      <td>order usual size</td>\n",
       "      <td>93</td>\n",
       "      <td>115 lb 30 dd</td>\n",
       "      <td>22</td>\n",
       "      <td>5 1 5 115 lb</td>\n",
       "      <td>12</td>\n",
       "    </tr>\n",
       "    <tr>\n",
       "      <th>8</th>\n",
       "      <td>like</td>\n",
       "      <td>5916</td>\n",
       "      <td>fit well</td>\n",
       "      <td>571</td>\n",
       "      <td>run littl big</td>\n",
       "      <td>89</td>\n",
       "      <td>love love love dress</td>\n",
       "      <td>22</td>\n",
       "      <td>5 2 34b 26 waist</td>\n",
       "      <td>12</td>\n",
       "    </tr>\n",
       "    <tr>\n",
       "      <th>9</th>\n",
       "      <td>great</td>\n",
       "      <td>5584</td>\n",
       "      <td>usual size</td>\n",
       "      <td>558</td>\n",
       "      <td>look great jean</td>\n",
       "      <td>88</td>\n",
       "      <td>usual wear size 4</td>\n",
       "      <td>21</td>\n",
       "      <td>lb 30dd 26 5 waist</td>\n",
       "      <td>12</td>\n",
       "    </tr>\n",
       "    <tr>\n",
       "      <th>10</th>\n",
       "      <td>5</td>\n",
       "      <td>4678</td>\n",
       "      <td>fit great</td>\n",
       "      <td>558</td>\n",
       "      <td>run littl larg</td>\n",
       "      <td>85</td>\n",
       "      <td>size 4 fit perfectli</td>\n",
       "      <td>21</td>\n",
       "      <td>30 dd 26 5 waist</td>\n",
       "      <td>12</td>\n",
       "    </tr>\n",
       "    <tr>\n",
       "      <th>11</th>\n",
       "      <td>order</td>\n",
       "      <td>4017</td>\n",
       "      <td>well made</td>\n",
       "      <td>531</td>\n",
       "      <td>look forward wear</td>\n",
       "      <td>83</td>\n",
       "      <td>top fit true size</td>\n",
       "      <td>20</td>\n",
       "      <td>5 5 tall 145 lb</td>\n",
       "      <td>12</td>\n",
       "    </tr>\n",
       "    <tr>\n",
       "      <th>12</th>\n",
       "      <td>small</td>\n",
       "      <td>3836</td>\n",
       "      <td>5 3</td>\n",
       "      <td>488</td>\n",
       "      <td>everi time wear</td>\n",
       "      <td>81</td>\n",
       "      <td>size small fit perfectli</td>\n",
       "      <td>19</td>\n",
       "      <td>2 34b 26 waist 36</td>\n",
       "      <td>12</td>\n",
       "    </tr>\n",
       "    <tr>\n",
       "      <th>13</th>\n",
       "      <td>would</td>\n",
       "      <td>3760</td>\n",
       "      <td>fit true</td>\n",
       "      <td>471</td>\n",
       "      <td>xs fit perfectli</td>\n",
       "      <td>79</td>\n",
       "      <td>fit true size 5</td>\n",
       "      <td>19</td>\n",
       "      <td>5 tall 145 lb 38</td>\n",
       "      <td>12</td>\n",
       "    </tr>\n",
       "    <tr>\n",
       "      <th>14</th>\n",
       "      <td>perfect</td>\n",
       "      <td>3647</td>\n",
       "      <td>run larg</td>\n",
       "      <td>469</td>\n",
       "      <td>medium fit perfectli</td>\n",
       "      <td>72</td>\n",
       "      <td>5 4 125 lb</td>\n",
       "      <td>18</td>\n",
       "      <td>would say run true size</td>\n",
       "      <td>10</td>\n",
       "    </tr>\n",
       "    <tr>\n",
       "      <th>15</th>\n",
       "      <td>fabric</td>\n",
       "      <td>3625</td>\n",
       "      <td>size small</td>\n",
       "      <td>455</td>\n",
       "      <td>got mani compliment</td>\n",
       "      <td>70</td>\n",
       "      <td>5 5 135lb 34c</td>\n",
       "      <td>18</td>\n",
       "      <td>1 5 5 tall 145</td>\n",
       "      <td>10</td>\n",
       "    </tr>\n",
       "    <tr>\n",
       "      <th>16</th>\n",
       "      <td>littl</td>\n",
       "      <td>3412</td>\n",
       "      <td>fit perfect</td>\n",
       "      <td>447</td>\n",
       "      <td>run bit larg</td>\n",
       "      <td>69</td>\n",
       "      <td>5 2 current 33</td>\n",
       "      <td>17</td>\n",
       "      <td>look great skinni jean leg</td>\n",
       "      <td>9</td>\n",
       "    </tr>\n",
       "    <tr>\n",
       "      <th>17</th>\n",
       "      <td>nice</td>\n",
       "      <td>3337</td>\n",
       "      <td>5 5</td>\n",
       "      <td>444</td>\n",
       "      <td>size small fit</td>\n",
       "      <td>67</td>\n",
       "      <td>3 4 length sleev</td>\n",
       "      <td>17</td>\n",
       "      <td>145 lb 38 32 40</td>\n",
       "      <td>8</td>\n",
       "    </tr>\n",
       "    <tr>\n",
       "      <th>18</th>\n",
       "      <td>flatter</td>\n",
       "      <td>3194</td>\n",
       "      <td>love love</td>\n",
       "      <td>444</td>\n",
       "      <td>usual size small</td>\n",
       "      <td>67</td>\n",
       "      <td>2 current 33 25</td>\n",
       "      <td>17</td>\n",
       "      <td>tall 145 lb 38 32</td>\n",
       "      <td>8</td>\n",
       "    </tr>\n",
       "    <tr>\n",
       "      <th>19</th>\n",
       "      <td>comfort</td>\n",
       "      <td>3111</td>\n",
       "      <td>fit like</td>\n",
       "      <td>423</td>\n",
       "      <td>usual wear small</td>\n",
       "      <td>64</td>\n",
       "      <td>5 3 120 lb</td>\n",
       "      <td>17</td>\n",
       "      <td>mani compliment everi time wear</td>\n",
       "      <td>8</td>\n",
       "    </tr>\n",
       "    <tr>\n",
       "      <th>20</th>\n",
       "      <td>soft</td>\n",
       "      <td>3087</td>\n",
       "      <td>feel like</td>\n",
       "      <td>419</td>\n",
       "      <td>normal wear size</td>\n",
       "      <td>62</td>\n",
       "      <td>fit true size flatter</td>\n",
       "      <td>17</td>\n",
       "      <td>receiv compliment everi time wear</td>\n",
       "      <td>8</td>\n",
       "    </tr>\n",
       "    <tr>\n",
       "      <th>21</th>\n",
       "      <td>one</td>\n",
       "      <td>3076</td>\n",
       "      <td>5 2</td>\n",
       "      <td>409</td>\n",
       "      <td>would definit recommend</td>\n",
       "      <td>57</td>\n",
       "      <td>love fit true size</td>\n",
       "      <td>17</td>\n",
       "      <td>size xl fit true size</td>\n",
       "      <td>8</td>\n",
       "    </tr>\n",
       "    <tr>\n",
       "      <th>22</th>\n",
       "      <td>realli</td>\n",
       "      <td>3055</td>\n",
       "      <td>order size</td>\n",
       "      <td>408</td>\n",
       "      <td>fit perfectli love</td>\n",
       "      <td>57</td>\n",
       "      <td>fit true size love</td>\n",
       "      <td>16</td>\n",
       "      <td>26 waist 36 hip hem</td>\n",
       "      <td>7</td>\n",
       "    </tr>\n",
       "    <tr>\n",
       "      <th>23</th>\n",
       "      <td>beauti</td>\n",
       "      <td>2997</td>\n",
       "      <td>small fit</td>\n",
       "      <td>397</td>\n",
       "      <td>usual wear medium</td>\n",
       "      <td>57</td>\n",
       "      <td>love love love top</td>\n",
       "      <td>15</td>\n",
       "      <td>fyi 36c broad shoulder back</td>\n",
       "      <td>7</td>\n",
       "    </tr>\n",
       "    <tr>\n",
       "      <th>24</th>\n",
       "      <td>well</td>\n",
       "      <td>2935</td>\n",
       "      <td>love color</td>\n",
       "      <td>385</td>\n",
       "      <td>true size 5</td>\n",
       "      <td>57</td>\n",
       "      <td>115 lb 30dd 26</td>\n",
       "      <td>15</td>\n",
       "      <td>26 5 waist 115 lb</td>\n",
       "      <td>7</td>\n",
       "    </tr>\n",
       "    <tr>\n",
       "      <th>25</th>\n",
       "      <td>tri</td>\n",
       "      <td>2822</td>\n",
       "      <td>highli recommend</td>\n",
       "      <td>382</td>\n",
       "      <td>compliment everi time</td>\n",
       "      <td>57</td>\n",
       "      <td>order usual size small</td>\n",
       "      <td>15</td>\n",
       "      <td>5 5 135lb 34c curvi</td>\n",
       "      <td>7</td>\n",
       "    </tr>\n",
       "    <tr>\n",
       "      <th>26</th>\n",
       "      <td>bought</td>\n",
       "      <td>2684</td>\n",
       "      <td>5 7</td>\n",
       "      <td>378</td>\n",
       "      <td>local retail store</td>\n",
       "      <td>56</td>\n",
       "      <td>run larg usual wear</td>\n",
       "      <td>15</td>\n",
       "      <td>waist 36 hip hem fall</td>\n",
       "      <td>7</td>\n",
       "    </tr>\n",
       "    <tr>\n",
       "      <th>27</th>\n",
       "      <td>bit</td>\n",
       "      <td>2567</td>\n",
       "      <td>5 6</td>\n",
       "      <td>377</td>\n",
       "      <td>make look like</td>\n",
       "      <td>55</td>\n",
       "      <td>compliment first time wore</td>\n",
       "      <td>15</td>\n",
       "      <td>135lb 34c curvi muscular frame</td>\n",
       "      <td>7</td>\n",
       "    </tr>\n",
       "    <tr>\n",
       "      <th>28</th>\n",
       "      <td>cute</td>\n",
       "      <td>2510</td>\n",
       "      <td>mani compliment</td>\n",
       "      <td>363</td>\n",
       "      <td>get lot use</td>\n",
       "      <td>55</td>\n",
       "      <td>5 4 135 lb</td>\n",
       "      <td>15</td>\n",
       "      <td>5 135lb 34c curvi muscular</td>\n",
       "      <td>7</td>\n",
       "    </tr>\n",
       "    <tr>\n",
       "      <th>29</th>\n",
       "      <td>jean</td>\n",
       "      <td>2455</td>\n",
       "      <td>realli like</td>\n",
       "      <td>351</td>\n",
       "      <td>run littl small</td>\n",
       "      <td>53</td>\n",
       "      <td>30dd 26 5 waist</td>\n",
       "      <td>15</td>\n",
       "      <td>got mani compliment first time</td>\n",
       "      <td>6</td>\n",
       "    </tr>\n",
       "  </tbody>\n",
       "</table>\n",
       "</div>"
      ],
      "text/plain": [
       "     1-Gram  Occurrence            2-Gram  Occurrence  \\\n",
       "0     dress       10055         true size        1246   \n",
       "1      love        9914     fit perfectli        1038   \n",
       "2       fit        9794        look great         907   \n",
       "3      size        9125        love dress         792   \n",
       "4      wear        7042         look like         676   \n",
       "5      look        6940               5 4         622   \n",
       "6       top        6662          love top         602   \n",
       "7     color        6238        usual wear         592   \n",
       "8      like        5916          fit well         571   \n",
       "9     great        5584        usual size         558   \n",
       "10        5        4678         fit great         558   \n",
       "11    order        4017         well made         531   \n",
       "12    small        3836               5 3         488   \n",
       "13    would        3760          fit true         471   \n",
       "14  perfect        3647          run larg         469   \n",
       "15   fabric        3625        size small         455   \n",
       "16    littl        3412       fit perfect         447   \n",
       "17     nice        3337               5 5         444   \n",
       "18  flatter        3194         love love         444   \n",
       "19  comfort        3111          fit like         423   \n",
       "20     soft        3087         feel like         419   \n",
       "21      one        3076               5 2         409   \n",
       "22   realli        3055        order size         408   \n",
       "23   beauti        2997         small fit         397   \n",
       "24     well        2935        love color         385   \n",
       "25      tri        2822  highli recommend         382   \n",
       "26   bought        2684               5 7         378   \n",
       "27      bit        2567               5 6         377   \n",
       "28     cute        2510   mani compliment         363   \n",
       "29     jean        2455       realli like         351   \n",
       "\n",
       "                     3-Gram  Occurrence                      4-Gram  \\\n",
       "0             fit true size         460  compliment everi time wear   \n",
       "1             run true size         195      look great skinni jean   \n",
       "2    receiv mani compliment         170             26 waist 36 hip   \n",
       "3            love love love         139             34b 26 waist 36   \n",
       "4       small fit perfectli         138   get compliment everi time   \n",
       "5            fit like glove         130         dress fit true size   \n",
       "6           usual wear size         109                  5 4 120 lb   \n",
       "7          order usual size          93                115 lb 30 dd   \n",
       "8             run littl big          89        love love love dress   \n",
       "9           look great jean          88           usual wear size 4   \n",
       "10           run littl larg          85        size 4 fit perfectli   \n",
       "11        look forward wear          83           top fit true size   \n",
       "12          everi time wear          81    size small fit perfectli   \n",
       "13         xs fit perfectli          79             fit true size 5   \n",
       "14     medium fit perfectli          72                  5 4 125 lb   \n",
       "15      got mani compliment          70               5 5 135lb 34c   \n",
       "16             run bit larg          69              5 2 current 33   \n",
       "17           size small fit          67            3 4 length sleev   \n",
       "18         usual size small          67             2 current 33 25   \n",
       "19         usual wear small          64                  5 3 120 lb   \n",
       "20         normal wear size          62       fit true size flatter   \n",
       "21  would definit recommend          57          love fit true size   \n",
       "22       fit perfectli love          57          fit true size love   \n",
       "23        usual wear medium          57          love love love top   \n",
       "24              true size 5          57              115 lb 30dd 26   \n",
       "25    compliment everi time          57      order usual size small   \n",
       "26       local retail store          56         run larg usual wear   \n",
       "27           make look like          55  compliment first time wore   \n",
       "28              get lot use          55                  5 4 135 lb   \n",
       "29          run littl small          53             30dd 26 5 waist   \n",
       "\n",
       "    Occurrence                             5-Gram  Occurrence  \n",
       "0           50                34b 26 waist 36 hip          27  \n",
       "1           32     get compliment everi time wear          25  \n",
       "2           32                  5 2 current 33 25          17  \n",
       "3           28                    115 lb 30 dd 26          15  \n",
       "4           27                      lb 30 dd 26 5          13  \n",
       "5           23                 2 current 33 25 37          13  \n",
       "6           22                   115 lb 30dd 26 5          13  \n",
       "7           22                       5 1 5 115 lb          12  \n",
       "8           22                   5 2 34b 26 waist          12  \n",
       "9           21                 lb 30dd 26 5 waist          12  \n",
       "10          21                   30 dd 26 5 waist          12  \n",
       "11          20                    5 5 tall 145 lb          12  \n",
       "12          19                  2 34b 26 waist 36          12  \n",
       "13          19                   5 tall 145 lb 38          12  \n",
       "14          18            would say run true size          10  \n",
       "15          18                     1 5 5 tall 145          10  \n",
       "16          17         look great skinni jean leg           9  \n",
       "17          17                    145 lb 38 32 40           8  \n",
       "18          17                  tall 145 lb 38 32           8  \n",
       "19          17    mani compliment everi time wear           8  \n",
       "20          17  receiv compliment everi time wear           8  \n",
       "21          17              size xl fit true size           8  \n",
       "22          16                26 waist 36 hip hem           7  \n",
       "23          15        fyi 36c broad shoulder back           7  \n",
       "24          15                  26 5 waist 115 lb           7  \n",
       "25          15                5 5 135lb 34c curvi           7  \n",
       "26          15              waist 36 hip hem fall           7  \n",
       "27          15     135lb 34c curvi muscular frame           7  \n",
       "28          15         5 135lb 34c curvi muscular           7  \n",
       "29          15     got mani compliment first time           6  "
      ]
     },
     "execution_count": 72,
     "metadata": {},
     "output_type": "execute_result"
    }
   ],
   "source": [
    "print(\"Recommended Items\")\n",
    "gram_table(data= data['Review Text'][data[\"Recommended IND\"].astype(int) == 1], gram=[1,2,3,4,5], length=30)"
   ]
  },
  {
   "cell_type": "markdown",
   "metadata": {
    "collapsed": true
   },
   "source": [
    "##   Deep dive on the features by age group, product group/class"
   ]
  },
  {
   "cell_type": "code",
   "execution_count": 85,
   "metadata": {
    "collapsed": false
   },
   "outputs": [
    {
     "data": {
      "text/plain": [
       "<matplotlib.axes._subplots.AxesSubplot at 0x7f54788fe710>"
      ]
     },
     "execution_count": 85,
     "metadata": {},
     "output_type": "execute_result"
    },
    {
     "data": {
      "image/png": "[encoded data removed]",
      "text/plain": [
       "<matplotlib.figure.Figure at 0x7f5479e2f080>"
      ]
     },
     "metadata": {},
     "output_type": "display_data"
    }
   ],
   "source": [
    "data.groupby(['Rating', pd.cut(data['Age'], np.arange(0,100,10))])\\\n",
    "       .size()\\\n",
    "       .unstack(0)\\\n",
    "       .plot.bar(stacked=True)"
   ]
  },
  {
   "cell_type": "code",
   "execution_count": 98,
   "metadata": {
    "collapsed": false
   },
   "outputs": [
    {
     "data": {
      "text/plain": [
       "<matplotlib.axes._subplots.AxesSubplot at 0x7f5471538668>"
      ]
     },
     "execution_count": 98,
     "metadata": {},
     "output_type": "execute_result"
    },
    {
     "data": {
      "text/plain": [
       "<matplotlib.figure.Figure at 0x7f54775f5fd0>"
      ]
     },
     "metadata": {},
     "output_type": "display_data"
    },
    {
     "data": {
      "image/png": "[encoded data removed]",
      "text/plain": [
       "<matplotlib.figure.Figure at 0x7f547150ccf8>"
      ]
     },
     "metadata": {},
     "output_type": "display_data"
    }
   ],
   "source": [
    "plt.figure(figsize=(15,15))\n",
    "data.groupby(['Department Name', pd.cut(data['Age'], np.arange(0,100,10))])\\\n",
    "       .size()\\\n",
    "       .unstack(0)\\\n",
    "       .plot.bar(stacked=True)"
   ]
  },
  {
   "cell_type": "code",
   "execution_count": 99,
   "metadata": {
    "collapsed": false
   },
   "outputs": [
    {
     "data": {
      "text/plain": [
       "<matplotlib.axes._subplots.AxesSubplot at 0x7f547150ca58>"
      ]
     },
     "execution_count": 99,
     "metadata": {},
     "output_type": "execute_result"
    },
    {
     "data": {
      "text/plain": [
       "<matplotlib.figure.Figure at 0x7f54714dfe48>"
      ]
     },
     "metadata": {},
     "output_type": "display_data"
    },
    {
     "data": {
      "image/png": "[encoded data removed]",
      "text/plain": [
       "<matplotlib.figure.Figure at 0x7f54714facc0>"
      ]
     },
     "metadata": {},
     "output_type": "display_data"
    }
   ],
   "source": [
    "plt.figure(figsize=(15,15))\n",
    "data.groupby(['Class Name', pd.cut(data['Age'], np.arange(0,100,10))])\\\n",
    "       .size()\\\n",
    "       .unstack(0)\\\n",
    "       .plot.bar(stacked=True)"
   ]
  },
  {
   "cell_type": "markdown",
   "metadata": {},
   "source": [
    "## 35 to 39 years of people are most likely to review product.\n",
    "## Age Group 30 to 40 wrote more positive review\n",
    "\n",
    "## Based of Age group and mostly bought product with positive reviews we can recommand those products to new customers"
   ]
  },
  {
   "cell_type": "code",
   "execution_count": 64,
   "metadata": {
    "collapsed": false
   },
   "outputs": [
    {
     "data": {
      "text/plain": [
       "array(['Intimates', 'Dresses', 'Pants', 'Blouses', 'Knits', 'Outerwear',\n",
       "       'Lounge', 'Sweaters', 'Skirts', 'Fine gauge', 'Sleep', 'Jackets',\n",
       "       'Swim', 'Trend', 'Jeans', 'Legwear', 'Shorts', 'Layering',\n",
       "       'Casual bottoms', 'Chemises'], dtype=object)"
      ]
     },
     "execution_count": 64,
     "metadata": {},
     "output_type": "execute_result"
    }
   ],
   "source": [
    "data['Class Name'].unique()"
   ]
  },
  {
   "cell_type": "code",
   "execution_count": 65,
   "metadata": {
    "collapsed": false
   },
   "outputs": [
    {
     "data": {
      "image/png": "[encoded data removed]",
      "text/plain": [
       "<matplotlib.figure.Figure at 0x7f547aa809e8>"
      ]
     },
     "metadata": {},
     "output_type": "display_data"
    }
   ],
   "source": [
    "plt.subplots(figsize=(9,5))\n",
    "sns.countplot(y=\"Class Name\", data=data,order=data[\"Class Name\"].value_counts().index)\n",
    "plt.title(\"Class\")\n",
    "plt.xlabel(\"Count\")\n",
    "plt.show()"
   ]
  },
  {
   "cell_type": "markdown",
   "metadata": {},
   "source": [
    "People are buying Blouses, Knits and Dresses more"
   ]
  },
  {
   "cell_type": "markdown",
   "metadata": {},
   "source": [
    "## -   extract topic or concept based features from reviews "
   ]
  },
  {
   "cell_type": "code",
   "execution_count": 90,
   "metadata": {
    "collapsed": true
   },
   "outputs": [],
   "source": [
    "from nltk.corpus import stopwords \n",
    "from nltk.stem.wordnet import WordNetLemmatizer\n",
    "import string\n",
    "stop = set(stopwords.words('english'))\n",
    "exclude = set(string.punctuation) \n",
    "lemma = WordNetLemmatizer()\n",
    "def clean(doc):\n",
    "    stop_free = \" \".join([i for i in doc.lower().split() if i not in stop])\n",
    "    punc_free = ''.join(ch for ch in stop_free if ch not in exclude)\n",
    "    normalized = \" \".join(lemma.lemmatize(word) for word in punc_free.split())\n",
    "    return normalized\n",
    "\n",
    "#doc_clean = [clean(doc).split() for doc in doc_complete]  \n",
    "cleaned_review = data['Review Text'].apply(clean)"
   ]
  },
  {
   "cell_type": "code",
   "execution_count": 91,
   "metadata": {
    "collapsed": false
   },
   "outputs": [],
   "source": [
    "cleaned_review = [review.split() for review in cleaned_review] "
   ]
  },
  {
   "cell_type": "code",
   "execution_count": 94,
   "metadata": {
    "collapsed": false
   },
   "outputs": [],
   "source": [
    "import gensim\n",
    "from gensim import corpora\n",
    "\n",
    "dictionary = corpora.Dictionary(cleaned_review)\n",
    "\n",
    "doc_term_matrix = [dictionary.doc2bow(review) for review in cleaned_review]"
   ]
  },
  {
   "cell_type": "code",
   "execution_count": 100,
   "metadata": {
    "collapsed": false
   },
   "outputs": [],
   "source": [
    "Lda = gensim.models.ldamodel.LdaModel\n",
    "\n",
    "# Running and Trainign LDA model on the document term matrix.\n",
    "ldamodel = Lda(doc_term_matrix, num_topics=3, id2word = dictionary, passes=3)"
   ]
  },
  {
   "cell_type": "code",
   "execution_count": 101,
   "metadata": {
    "collapsed": false
   },
   "outputs": [
    {
     "name": "stdout",
     "output_type": "stream",
     "text": [
      "[(0, '0.040*\"size\" + 0.023*\"dress\" + 0.016*\"fit\" + 0.010*\"store\" + 0.008*\"im\" + 0.008*\"it\" + 0.008*\"one\" + 0.008*\"small\" + 0.008*\"retailer\" + 0.008*\"tried\"'), (1, '0.025*\"love\" + 0.023*\"it\" + 0.017*\"color\" + 0.017*\"great\" + 0.014*\"wear\" + 0.012*\"top\" + 0.011*\"fit\" + 0.011*\"sweater\" + 0.011*\"look\" + 0.010*\"soft\"'), (2, '0.019*\"dress\" + 0.015*\"fit\" + 0.015*\"like\" + 0.015*\"it\" + 0.015*\"top\" + 0.013*\"look\" + 0.013*\"im\" + 0.011*\"small\" + 0.010*\"would\" + 0.010*\"fabric\"')]\n"
     ]
    }
   ],
   "source": [
    "print(ldamodel.print_topics(num_topics=3, num_words=10))"
   ]
  },
  {
   "cell_type": "markdown",
   "metadata": {},
   "source": [
    "## Output of this lda model will give topics and words fall under each topic, by plotting scree plot for each number of topic and overlapping words we can define number of topics.\n",
    "\n",
    "We can finetune this model by changing num_topics and passes."
   ]
  },
  {
   "cell_type": "code",
   "execution_count": null,
   "metadata": {
    "collapsed": true
   },
   "outputs": [],
   "source": []
  },
  {
   "cell_type": "code",
   "execution_count": null,
   "metadata": {
    "collapsed": true
   },
   "outputs": [],
   "source": []
  }
 ],
 "metadata": {
  "anaconda-cloud": {},
  "kernelspec": {
   "display_name": "Python [conda env:anaconda3]",
   "language": "python",
   "name": "conda-env-anaconda3-py"
  },
  "language_info": {
   "codemirror_mode": {
    "name": "ipython",
    "version": 3
   },
   "file_extension": ".py",
   "mimetype": "text/x-python",
   "name": "python",
   "nbconvert_exporter": "python",
   "pygments_lexer": "ipython3",
   "version": "3.5.2"
  }
 },
 "nbformat": 4,
 "nbformat_minor": 2
}
